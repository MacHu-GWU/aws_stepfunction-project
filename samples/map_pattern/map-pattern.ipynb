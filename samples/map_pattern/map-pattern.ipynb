{
 "cells": [
  {
   "cell_type": "code",
   "execution_count": 1,
   "outputs": [],
   "source": [
    "import aws_stepfunction as sfn\n",
    "from boto_session_manager import BotoSesManager\n",
    "from s3pathlib import S3Path, context\n",
    "from rich import print as rprint\n",
    "\n",
    "bsm = BotoSesManager(profile_name=\"aws_data_lab_sanhe_us_east_1\")\n",
    "context.attach_boto_session(bsm.boto_ses)"
   ],
   "metadata": {
    "collapsed": false,
    "pycharm": {
     "name": "#%%\n"
    }
   }
  },
  {
   "cell_type": "code",
   "execution_count": 2,
   "outputs": [],
   "source": [
    "bucket = f\"{bsm.aws_account_id}-{bsm.aws_region}-data\"\n",
    "s3dir_root = S3Path(bucket, \"projects/aws_stepfunction/examples/map-pattern/\").to_dir()\n"
   ],
   "metadata": {
    "collapsed": false,
    "pycharm": {
     "name": "#%%\n"
    }
   }
  },
  {
   "cell_type": "code",
   "execution_count": 4,
   "outputs": [
    {
     "name": "stdout",
     "output_type": "stream",
     "text": [
      "preview source data at: https://console.aws.amazon.com/s3/object/669508176277-us-east-1-data?prefix=projects/aws_stepfunction/examples/map-pattern/source\n"
     ]
    }
   ],
   "source": [
    "def prepare_data():\n",
    "    s3dir_source = s3dir_root.joinpath(\"source\")\n",
    "    print(f\"preview source data at: {s3dir_source.console_url}\")\n",
    "    n_file = 3\n",
    "    for ith in range(1, 1+n_file):\n",
    "        s3path = s3dir_source / f\"{ith}.txt\"\n",
    "        s3path.write_text(f\"this is the {ith} th file\")\n",
    "\n",
    "prepare_data()"
   ],
   "metadata": {
    "collapsed": false,
    "pycharm": {
     "name": "#%%\n"
    }
   }
  },
  {
   "cell_type": "code",
   "execution_count": 7,
   "outputs": [],
   "source": [
    "task1_coordinator = sfn.LambdaTask(\n",
    "    id=\"Task1-Coordinator\",\n",
    "    lbd_func_name=\"aws_stepfunction_map_pattern-task1_coordinator\",\n",
    "    lbd_package=\"worker.py\",\n",
    "    lbd_handler=\"worker.lambda_handler\",\n",
    "    lbd_aws_account_id=bsm.aws_account_id,\n",
    "    lbd_aws_region=bsm.aws_region,\n",
    "    lbd_code_s3_bucket=bucket,\n",
    ")\n",
    "\n",
    "task2_worker = sfn.LambdaTask(\n",
    "    id=\"Task2-Worker\",\n",
    "    lbd_func_name=\"aws_stepfunction_map_pattern-task1_worker\",\n",
    "    lbd_package=\"worker.py\",\n",
    "    lbd_handler=\"worker.lambda_handler\",\n",
    "    lbd_aws_account_id=bsm.aws_account_id,\n",
    "    lbd_aws_region=bsm.aws_region,\n",
    "    lbd_code_s3_bucket=bucket,\n",
    ")"
   ],
   "metadata": {
    "collapsed": false,
    "pycharm": {
     "name": "#%%\n"
    }
   }
  },
  {
   "cell_type": "code",
   "execution_count": 8,
   "outputs": [
    {
     "data": {
      "text/plain": "\u001B[1m{\u001B[0m\n    \u001B[32m'StartAt'\u001B[0m: \u001B[32m'Task1-Coordinator'\u001B[0m,\n    \u001B[32m'States'\u001B[0m: \u001B[1m{\u001B[0m\n        \u001B[32m'Task1-Coordinator'\u001B[0m: \u001B[1m{\u001B[0m\n            \u001B[32m'Type'\u001B[0m: \u001B[32m'Task'\u001B[0m,\n            \u001B[32m'Resource'\u001B[0m: \u001B[32m'arn:aws:states:::lambda:invoke'\u001B[0m,\n            \u001B[32m'Next'\u001B[0m: \u001B[32m'Map-after-Task1-Coordinator'\u001B[0m,\n            \u001B[32m'Parameters'\u001B[0m: \u001B[1m{\u001B[0m\n                \u001B[32m'Payload.$'\u001B[0m: \u001B[32m'$'\u001B[0m,\n                \u001B[32m'FunctionName'\u001B[0m: \n\u001B[32m'arn:aws:lambda:us-east-1:669508176277:function:aws_stepfunction_map_pattern-task1_coordinator'\u001B[0m\n            \u001B[1m}\u001B[0m,\n            \u001B[32m'OutputPath'\u001B[0m: \u001B[32m'$.Payload'\u001B[0m,\n            \u001B[32m'Retry'\u001B[0m: \u001B[1m[\u001B[0m\n                \u001B[1m{\u001B[0m\n                    \u001B[32m'ErrorEquals'\u001B[0m: \u001B[1m[\u001B[0m\n                        \u001B[32m'Lambda.ServiceException'\u001B[0m,\n                        \u001B[32m'Lambda.AWSLambdaException'\u001B[0m,\n                        \u001B[32m'Lambda.SdkClientException'\u001B[0m\n                    \u001B[1m]\u001B[0m,\n                    \u001B[32m'IntervalSeconds'\u001B[0m: \u001B[1;36m2\u001B[0m,\n                    \u001B[32m'BackoffRate'\u001B[0m: \u001B[1;36m2\u001B[0m,\n                    \u001B[32m'MaxAttempts'\u001B[0m: \u001B[1;36m3\u001B[0m\n                \u001B[1m}\u001B[0m\n            \u001B[1m]\u001B[0m\n        \u001B[1m}\u001B[0m,\n        \u001B[32m'Map-after-Task1-Coordinator'\u001B[0m: \u001B[1m{\u001B[0m\n            \u001B[32m'Type'\u001B[0m: \u001B[32m'Map'\u001B[0m,\n            \u001B[32m'Iterator'\u001B[0m: \u001B[1m{\u001B[0m\n                \u001B[32m'StartAt'\u001B[0m: \u001B[32m'Task2-Worker'\u001B[0m,\n                \u001B[32m'States'\u001B[0m: \u001B[1m{\u001B[0m\n                    \u001B[32m'Task2-Worker'\u001B[0m: \u001B[1m{\u001B[0m\n                        \u001B[32m'Type'\u001B[0m: \u001B[32m'Task'\u001B[0m,\n                        \u001B[32m'Resource'\u001B[0m: \u001B[32m'arn:aws:states:::lambda:invoke'\u001B[0m,\n                        \u001B[32m'End'\u001B[0m: \u001B[3;92mTrue\u001B[0m,\n                        \u001B[32m'Parameters'\u001B[0m: \u001B[1m{\u001B[0m\n                            \u001B[32m'Payload.$'\u001B[0m: \u001B[32m'$'\u001B[0m,\n                            \u001B[32m'FunctionName'\u001B[0m: \n\u001B[32m'arn:aws:lambda:us-east-1:669508176277:function:aws_stepfunction_map_pattern-task1_worker'\u001B[0m\n                        \u001B[1m}\u001B[0m,\n                        \u001B[32m'OutputPath'\u001B[0m: \u001B[32m'$.Payload'\u001B[0m,\n                        \u001B[32m'Retry'\u001B[0m: \u001B[1m[\u001B[0m\n                            \u001B[1m{\u001B[0m\n                                \u001B[32m'ErrorEquals'\u001B[0m: \u001B[1m[\u001B[0m\n                                    \u001B[32m'Lambda.ServiceException'\u001B[0m,\n                                    \u001B[32m'Lambda.AWSLambdaException'\u001B[0m,\n                                    \u001B[32m'Lambda.SdkClientException'\u001B[0m\n                                \u001B[1m]\u001B[0m,\n                                \u001B[32m'IntervalSeconds'\u001B[0m: \u001B[1;36m2\u001B[0m,\n                                \u001B[32m'BackoffRate'\u001B[0m: \u001B[1;36m2\u001B[0m,\n                                \u001B[32m'MaxAttempts'\u001B[0m: \u001B[1;36m3\u001B[0m\n                            \u001B[1m}\u001B[0m\n                        \u001B[1m]\u001B[0m\n                    \u001B[1m}\u001B[0m\n                \u001B[1m}\u001B[0m\n            \u001B[1m}\u001B[0m,\n            \u001B[32m'End'\u001B[0m: \u001B[3;92mTrue\u001B[0m\n        \u001B[1m}\u001B[0m\n    \u001B[1m}\u001B[0m\n\u001B[1m}\u001B[0m\n",
      "text/html": "<pre style=\"white-space:pre;overflow-x:auto;line-height:normal;font-family:Menlo,'DejaVu Sans Mono',consolas,'Courier New',monospace\"><span style=\"font-weight: bold\">{</span>\n    <span style=\"color: #008000; text-decoration-color: #008000\">'StartAt'</span>: <span style=\"color: #008000; text-decoration-color: #008000\">'Task1-Coordinator'</span>,\n    <span style=\"color: #008000; text-decoration-color: #008000\">'States'</span>: <span style=\"font-weight: bold\">{</span>\n        <span style=\"color: #008000; text-decoration-color: #008000\">'Task1-Coordinator'</span>: <span style=\"font-weight: bold\">{</span>\n            <span style=\"color: #008000; text-decoration-color: #008000\">'Type'</span>: <span style=\"color: #008000; text-decoration-color: #008000\">'Task'</span>,\n            <span style=\"color: #008000; text-decoration-color: #008000\">'Resource'</span>: <span style=\"color: #008000; text-decoration-color: #008000\">'arn:aws:states:::lambda:invoke'</span>,\n            <span style=\"color: #008000; text-decoration-color: #008000\">'Next'</span>: <span style=\"color: #008000; text-decoration-color: #008000\">'Map-after-Task1-Coordinator'</span>,\n            <span style=\"color: #008000; text-decoration-color: #008000\">'Parameters'</span>: <span style=\"font-weight: bold\">{</span>\n                <span style=\"color: #008000; text-decoration-color: #008000\">'Payload.$'</span>: <span style=\"color: #008000; text-decoration-color: #008000\">'$'</span>,\n                <span style=\"color: #008000; text-decoration-color: #008000\">'FunctionName'</span>: \n<span style=\"color: #008000; text-decoration-color: #008000\">'arn:aws:lambda:us-east-1:669508176277:function:aws_stepfunction_map_pattern-task1_coordinator'</span>\n            <span style=\"font-weight: bold\">}</span>,\n            <span style=\"color: #008000; text-decoration-color: #008000\">'OutputPath'</span>: <span style=\"color: #008000; text-decoration-color: #008000\">'$.Payload'</span>,\n            <span style=\"color: #008000; text-decoration-color: #008000\">'Retry'</span>: <span style=\"font-weight: bold\">[</span>\n                <span style=\"font-weight: bold\">{</span>\n                    <span style=\"color: #008000; text-decoration-color: #008000\">'ErrorEquals'</span>: <span style=\"font-weight: bold\">[</span>\n                        <span style=\"color: #008000; text-decoration-color: #008000\">'Lambda.ServiceException'</span>,\n                        <span style=\"color: #008000; text-decoration-color: #008000\">'Lambda.AWSLambdaException'</span>,\n                        <span style=\"color: #008000; text-decoration-color: #008000\">'Lambda.SdkClientException'</span>\n                    <span style=\"font-weight: bold\">]</span>,\n                    <span style=\"color: #008000; text-decoration-color: #008000\">'IntervalSeconds'</span>: <span style=\"color: #008080; text-decoration-color: #008080; font-weight: bold\">2</span>,\n                    <span style=\"color: #008000; text-decoration-color: #008000\">'BackoffRate'</span>: <span style=\"color: #008080; text-decoration-color: #008080; font-weight: bold\">2</span>,\n                    <span style=\"color: #008000; text-decoration-color: #008000\">'MaxAttempts'</span>: <span style=\"color: #008080; text-decoration-color: #008080; font-weight: bold\">3</span>\n                <span style=\"font-weight: bold\">}</span>\n            <span style=\"font-weight: bold\">]</span>\n        <span style=\"font-weight: bold\">}</span>,\n        <span style=\"color: #008000; text-decoration-color: #008000\">'Map-after-Task1-Coordinator'</span>: <span style=\"font-weight: bold\">{</span>\n            <span style=\"color: #008000; text-decoration-color: #008000\">'Type'</span>: <span style=\"color: #008000; text-decoration-color: #008000\">'Map'</span>,\n            <span style=\"color: #008000; text-decoration-color: #008000\">'Iterator'</span>: <span style=\"font-weight: bold\">{</span>\n                <span style=\"color: #008000; text-decoration-color: #008000\">'StartAt'</span>: <span style=\"color: #008000; text-decoration-color: #008000\">'Task2-Worker'</span>,\n                <span style=\"color: #008000; text-decoration-color: #008000\">'States'</span>: <span style=\"font-weight: bold\">{</span>\n                    <span style=\"color: #008000; text-decoration-color: #008000\">'Task2-Worker'</span>: <span style=\"font-weight: bold\">{</span>\n                        <span style=\"color: #008000; text-decoration-color: #008000\">'Type'</span>: <span style=\"color: #008000; text-decoration-color: #008000\">'Task'</span>,\n                        <span style=\"color: #008000; text-decoration-color: #008000\">'Resource'</span>: <span style=\"color: #008000; text-decoration-color: #008000\">'arn:aws:states:::lambda:invoke'</span>,\n                        <span style=\"color: #008000; text-decoration-color: #008000\">'End'</span>: <span style=\"color: #00ff00; text-decoration-color: #00ff00; font-style: italic\">True</span>,\n                        <span style=\"color: #008000; text-decoration-color: #008000\">'Parameters'</span>: <span style=\"font-weight: bold\">{</span>\n                            <span style=\"color: #008000; text-decoration-color: #008000\">'Payload.$'</span>: <span style=\"color: #008000; text-decoration-color: #008000\">'$'</span>,\n                            <span style=\"color: #008000; text-decoration-color: #008000\">'FunctionName'</span>: \n<span style=\"color: #008000; text-decoration-color: #008000\">'arn:aws:lambda:us-east-1:669508176277:function:aws_stepfunction_map_pattern-task1_worker'</span>\n                        <span style=\"font-weight: bold\">}</span>,\n                        <span style=\"color: #008000; text-decoration-color: #008000\">'OutputPath'</span>: <span style=\"color: #008000; text-decoration-color: #008000\">'$.Payload'</span>,\n                        <span style=\"color: #008000; text-decoration-color: #008000\">'Retry'</span>: <span style=\"font-weight: bold\">[</span>\n                            <span style=\"font-weight: bold\">{</span>\n                                <span style=\"color: #008000; text-decoration-color: #008000\">'ErrorEquals'</span>: <span style=\"font-weight: bold\">[</span>\n                                    <span style=\"color: #008000; text-decoration-color: #008000\">'Lambda.ServiceException'</span>,\n                                    <span style=\"color: #008000; text-decoration-color: #008000\">'Lambda.AWSLambdaException'</span>,\n                                    <span style=\"color: #008000; text-decoration-color: #008000\">'Lambda.SdkClientException'</span>\n                                <span style=\"font-weight: bold\">]</span>,\n                                <span style=\"color: #008000; text-decoration-color: #008000\">'IntervalSeconds'</span>: <span style=\"color: #008080; text-decoration-color: #008080; font-weight: bold\">2</span>,\n                                <span style=\"color: #008000; text-decoration-color: #008000\">'BackoffRate'</span>: <span style=\"color: #008080; text-decoration-color: #008080; font-weight: bold\">2</span>,\n                                <span style=\"color: #008000; text-decoration-color: #008000\">'MaxAttempts'</span>: <span style=\"color: #008080; text-decoration-color: #008080; font-weight: bold\">3</span>\n                            <span style=\"font-weight: bold\">}</span>\n                        <span style=\"font-weight: bold\">]</span>\n                    <span style=\"font-weight: bold\">}</span>\n                <span style=\"font-weight: bold\">}</span>\n            <span style=\"font-weight: bold\">}</span>,\n            <span style=\"color: #008000; text-decoration-color: #008000\">'End'</span>: <span style=\"color: #00ff00; text-decoration-color: #00ff00; font-style: italic\">True</span>\n        <span style=\"font-weight: bold\">}</span>\n    <span style=\"font-weight: bold\">}</span>\n<span style=\"font-weight: bold\">}</span>\n</pre>\n"
     },
     "metadata": {},
     "output_type": "display_data"
    }
   ],
   "source": [
    "workflow = sfn.Workflow()\n",
    "(\n",
    "    workflow.start_from(task1_coordinator)\n",
    "    .map(\n",
    "        (\n",
    "            workflow.subflow_from(task2_worker)\n",
    "            .end()\n",
    "        )\n",
    "    )\n",
    "    .end()\n",
    ")\n",
    "rprint(workflow.serialize())"
   ],
   "metadata": {
    "collapsed": false,
    "pycharm": {
     "name": "#%%\n"
    }
   }
  },
  {
   "cell_type": "code",
   "execution_count": 10,
   "outputs": [],
   "source": [
    "sfn_name = \"aws_stepfunction_map_pattern\"\n",
    "\n",
    "state_machine = sfn.StateMachine(\n",
    "    name=sfn_name,\n",
    "    workflow=workflow,\n",
    "    role_arn=\"arn:aws:iam::669508176277:role/sanhe-for-everything-admin\",\n",
    ")"
   ],
   "metadata": {
    "collapsed": false,
    "pycharm": {
     "name": "#%%\n"
    }
   }
  },
  {
   "cell_type": "code",
   "execution_count": 11,
   "outputs": [
    {
     "name": "stderr",
     "output_type": "stream",
     "text": [
      "detect whether the magic task is used ...\n",
      "    yes\n",
      "identify necessary S3 bucket and IAM role ...\n"
     ]
    },
    {
     "ename": "ClientError",
     "evalue": "An error occurred (NoSuchTagSet) when calling the GetBucketTagging operation: The TagSet does not exist",
     "output_type": "error",
     "traceback": [
      "\u001B[0;31m---------------------------------------------------------------------------\u001B[0m",
      "\u001B[0;31mClientError\u001B[0m                               Traceback (most recent call last)",
      "Cell \u001B[0;32mIn [11], line 1\u001B[0m\n\u001B[0;32m----> 1\u001B[0m \u001B[43mstate_machine\u001B[49m\u001B[38;5;241;43m.\u001B[39;49m\u001B[43mdeploy\u001B[49m\u001B[43m(\u001B[49m\u001B[43mbsm\u001B[49m\u001B[38;5;241;43m=\u001B[39;49m\u001B[43mbsm\u001B[49m\u001B[43m)\u001B[49m\n",
      "File \u001B[0;32m~/Documents/GitHub/aws_stepfunction-project/aws_stepfunction/logger.py:107\u001B[0m, in \u001B[0;36mBaseLogger.decorator.<locals>.wrapper\u001B[0;34m(*args, **kwargs)\u001B[0m\n\u001B[1;32m    105\u001B[0m     verbose \u001B[38;5;241m=\u001B[39m \u001B[38;5;28;01mTrue\u001B[39;00m\n\u001B[1;32m    106\u001B[0m \u001B[38;5;28;01mwith\u001B[39;00m \u001B[38;5;28mself\u001B[39m\u001B[38;5;241m.\u001B[39mtemp_disable(disable\u001B[38;5;241m=\u001B[39m\u001B[38;5;129;01mnot\u001B[39;00m verbose):\n\u001B[0;32m--> 107\u001B[0m     \u001B[38;5;28;01mreturn\u001B[39;00m \u001B[43mfunc\u001B[49m\u001B[43m(\u001B[49m\u001B[38;5;241;43m*\u001B[39;49m\u001B[43margs\u001B[49m\u001B[43m,\u001B[49m\u001B[43m \u001B[49m\u001B[38;5;241;43m*\u001B[39;49m\u001B[38;5;241;43m*\u001B[39;49m\u001B[43mkwargs\u001B[49m\u001B[43m)\u001B[49m\n",
      "File \u001B[0;32m~/Documents/GitHub/aws_stepfunction-project/aws_stepfunction/state_machine.py:245\u001B[0m, in \u001B[0;36mdeploy\u001B[0;34m(self, bsm)\u001B[0m\n\u001B[1;32m    241\u001B[0m     logger\u001B[38;5;241m.\u001B[39minfo(\u001B[38;5;124mf\u001B[39m\u001B[38;5;124m\"\u001B[39m\u001B[38;5;124m  preview at: \u001B[39m\u001B[38;5;132;01m{\u001B[39;00mexecution_console_url\u001B[38;5;132;01m}\u001B[39;00m\u001B[38;5;124m\"\u001B[39m)\n\u001B[1;32m    242\u001B[0m     \u001B[38;5;28;01mreturn\u001B[39;00m res\n\u001B[1;32m    244\u001B[0m \u001B[38;5;129m@logger\u001B[39m\u001B[38;5;241m.\u001B[39mdecorator\n\u001B[0;32m--> 245\u001B[0m \u001B[38;5;28;01mdef\u001B[39;00m \u001B[38;5;21mdeploy\u001B[39m(\u001B[38;5;28mself\u001B[39m, bsm: \u001B[38;5;124m'\u001B[39m\u001B[38;5;124mBotoSesManager\u001B[39m\u001B[38;5;124m'\u001B[39m) \u001B[38;5;241m-\u001B[39m\u001B[38;5;241m>\u001B[39m \u001B[38;5;28mdict\u001B[39m:\n\u001B[1;32m    246\u001B[0m     \u001B[38;5;28mself\u001B[39m\u001B[38;5;241m.\u001B[39m_deploy_magic(bsm)\n\u001B[1;32m    248\u001B[0m     logger\u001B[38;5;241m.\u001B[39minfo(\n\u001B[1;32m    249\u001B[0m         \u001B[38;5;124mf\u001B[39m\u001B[38;5;124m\"\u001B[39m\u001B[38;5;124mdeploy state machine to \u001B[39m\u001B[38;5;132;01m{\u001B[39;00m\u001B[38;5;28mself\u001B[39m\u001B[38;5;241m.\u001B[39mget_state_machine_arn(bsm)\u001B[38;5;132;01m!r}\u001B[39;00m\u001B[38;5;124m ...\u001B[39m\u001B[38;5;124m\"\u001B[39m\n\u001B[1;32m    250\u001B[0m     )\n",
      "File \u001B[0;32m~/Documents/GitHub/aws_stepfunction-project/aws_stepfunction/logger.py:107\u001B[0m, in \u001B[0;36mBaseLogger.decorator.<locals>.wrapper\u001B[0;34m(*args, **kwargs)\u001B[0m\n\u001B[1;32m    105\u001B[0m     verbose \u001B[38;5;241m=\u001B[39m \u001B[38;5;28;01mTrue\u001B[39;00m\n\u001B[1;32m    106\u001B[0m \u001B[38;5;28;01mwith\u001B[39;00m \u001B[38;5;28mself\u001B[39m\u001B[38;5;241m.\u001B[39mtemp_disable(disable\u001B[38;5;241m=\u001B[39m\u001B[38;5;129;01mnot\u001B[39;00m verbose):\n\u001B[0;32m--> 107\u001B[0m     \u001B[38;5;28;01mreturn\u001B[39;00m \u001B[43mfunc\u001B[49m\u001B[43m(\u001B[49m\u001B[38;5;241;43m*\u001B[39;49m\u001B[43margs\u001B[49m\u001B[43m,\u001B[49m\u001B[43m \u001B[49m\u001B[38;5;241;43m*\u001B[39;49m\u001B[38;5;241;43m*\u001B[39;49m\u001B[43mkwargs\u001B[49m\u001B[43m)\u001B[49m\n",
      "File \u001B[0;32m~/Documents/GitHub/aws_stepfunction-project/aws_stepfunction/state_machine.py:325\u001B[0m, in \u001B[0;36m_deploy_magic\u001B[0;34m(self, bsm)\u001B[0m\n\u001B[1;32m    322\u001B[0m         bucket_name \u001B[38;5;241m=\u001B[39m state\u001B[38;5;241m.\u001B[39mlbd_code_s3_bucket\n\u001B[1;32m    323\u001B[0m     s3_bucket_set\u001B[38;5;241m.\u001B[39madd(bucket_name)\n\u001B[0;32m--> 325\u001B[0m \u001B[38;5;28;01mfor\u001B[39;00m bucket_name \u001B[38;5;129;01min\u001B[39;00m s3_bucket_set:\n\u001B[1;32m    326\u001B[0m     \u001B[38;5;28;01mtry\u001B[39;00m:\n\u001B[1;32m    327\u001B[0m         tags \u001B[38;5;241m=\u001B[39m boto_man\u001B[38;5;241m.\u001B[39mget_s3_bucket_tags(bucket_name)\n",
      "File \u001B[0;32m~/Documents/GitHub/aws_stepfunction-project/aws_stepfunction/boto.py:110\u001B[0m, in \u001B[0;36mBotoMan.get_s3_bucket_tags\u001B[0;34m(self, name)\u001B[0m\n\u001B[1;32m    108\u001B[0m     \u001B[38;5;28;01mraise\u001B[39;00m BucketNotExist\n\u001B[1;32m    109\u001B[0m \u001B[38;5;28;01melse\u001B[39;00m:\n\u001B[0;32m--> 110\u001B[0m     \u001B[38;5;28;01mraise\u001B[39;00m e\n",
      "File \u001B[0;32m~/Documents/GitHub/aws_stepfunction-project/aws_stepfunction/boto.py:101\u001B[0m, in \u001B[0;36mBotoMan.get_s3_bucket_tags\u001B[0;34m(self, name)\u001B[0m\n\u001B[1;32m     99\u001B[0m \u001B[38;5;28;01mdef\u001B[39;00m \u001B[38;5;21mget_s3_bucket_tags\u001B[39m(\u001B[38;5;28mself\u001B[39m, name: \u001B[38;5;28mstr\u001B[39m) \u001B[38;5;241m-\u001B[39m\u001B[38;5;241m>\u001B[39m \u001B[38;5;28mdict\u001B[39m:\n\u001B[1;32m    100\u001B[0m     \u001B[38;5;28;01mtry\u001B[39;00m:\n\u001B[0;32m--> 101\u001B[0m         response \u001B[38;5;241m=\u001B[39m \u001B[38;5;28;43mself\u001B[39;49m\u001B[38;5;241;43m.\u001B[39;49m\u001B[43ms3_client\u001B[49m\u001B[38;5;241;43m.\u001B[39;49m\u001B[43mget_bucket_tagging\u001B[49m\u001B[43m(\u001B[49m\u001B[43mBucket\u001B[49m\u001B[38;5;241;43m=\u001B[39;49m\u001B[43mname\u001B[49m\u001B[43m)\u001B[49m\n\u001B[1;32m    102\u001B[0m         \u001B[38;5;28;01mreturn\u001B[39;00m {\n\u001B[1;32m    103\u001B[0m             dct[\u001B[38;5;124m\"\u001B[39m\u001B[38;5;124mKey\u001B[39m\u001B[38;5;124m\"\u001B[39m]: dct[\u001B[38;5;124m\"\u001B[39m\u001B[38;5;124mValue\u001B[39m\u001B[38;5;124m\"\u001B[39m]\n\u001B[1;32m    104\u001B[0m             \u001B[38;5;28;01mfor\u001B[39;00m dct \u001B[38;5;129;01min\u001B[39;00m response\u001B[38;5;241m.\u001B[39mget(\u001B[38;5;124m\"\u001B[39m\u001B[38;5;124mTagSet\u001B[39m\u001B[38;5;124m\"\u001B[39m, [])\n\u001B[1;32m    105\u001B[0m         }\n\u001B[1;32m    106\u001B[0m     \u001B[38;5;28;01mexcept\u001B[39;00m \u001B[38;5;167;01mException\u001B[39;00m \u001B[38;5;28;01mas\u001B[39;00m e:\n",
      "File \u001B[0;32m~/venvs/python/3.8.11/aws_stepfunction_venv/lib/python3.8/site-packages/botocore/client.py:495\u001B[0m, in \u001B[0;36mClientCreator._create_api_method.<locals>._api_call\u001B[0;34m(self, *args, **kwargs)\u001B[0m\n\u001B[1;32m    491\u001B[0m     \u001B[38;5;28;01mraise\u001B[39;00m \u001B[38;5;167;01mTypeError\u001B[39;00m(\n\u001B[1;32m    492\u001B[0m         \u001B[38;5;124mf\u001B[39m\u001B[38;5;124m\"\u001B[39m\u001B[38;5;132;01m{\u001B[39;00mpy_operation_name\u001B[38;5;132;01m}\u001B[39;00m\u001B[38;5;124m() only accepts keyword arguments.\u001B[39m\u001B[38;5;124m\"\u001B[39m\n\u001B[1;32m    493\u001B[0m     )\n\u001B[1;32m    494\u001B[0m \u001B[38;5;66;03m# The \"self\" in this scope is referring to the BaseClient.\u001B[39;00m\n\u001B[0;32m--> 495\u001B[0m \u001B[38;5;28;01mreturn\u001B[39;00m \u001B[38;5;28;43mself\u001B[39;49m\u001B[38;5;241;43m.\u001B[39;49m\u001B[43m_make_api_call\u001B[49m\u001B[43m(\u001B[49m\u001B[43moperation_name\u001B[49m\u001B[43m,\u001B[49m\u001B[43m \u001B[49m\u001B[43mkwargs\u001B[49m\u001B[43m)\u001B[49m\n",
      "File \u001B[0;32m~/venvs/python/3.8.11/aws_stepfunction_venv/lib/python3.8/site-packages/botocore/client.py:914\u001B[0m, in \u001B[0;36mBaseClient._make_api_call\u001B[0;34m(self, operation_name, api_params)\u001B[0m\n\u001B[1;32m    912\u001B[0m     error_code \u001B[38;5;241m=\u001B[39m parsed_response\u001B[38;5;241m.\u001B[39mget(\u001B[38;5;124m\"\u001B[39m\u001B[38;5;124mError\u001B[39m\u001B[38;5;124m\"\u001B[39m, {})\u001B[38;5;241m.\u001B[39mget(\u001B[38;5;124m\"\u001B[39m\u001B[38;5;124mCode\u001B[39m\u001B[38;5;124m\"\u001B[39m)\n\u001B[1;32m    913\u001B[0m     error_class \u001B[38;5;241m=\u001B[39m \u001B[38;5;28mself\u001B[39m\u001B[38;5;241m.\u001B[39mexceptions\u001B[38;5;241m.\u001B[39mfrom_code(error_code)\n\u001B[0;32m--> 914\u001B[0m     \u001B[38;5;28;01mraise\u001B[39;00m error_class(parsed_response, operation_name)\n\u001B[1;32m    915\u001B[0m \u001B[38;5;28;01melse\u001B[39;00m:\n\u001B[1;32m    916\u001B[0m     \u001B[38;5;28;01mreturn\u001B[39;00m parsed_response\n",
      "\u001B[0;31mClientError\u001B[0m: An error occurred (NoSuchTagSet) when calling the GetBucketTagging operation: The TagSet does not exist"
     ]
    }
   ],
   "source": [
    "state_machine.deploy(bsm=bsm)"
   ],
   "metadata": {
    "collapsed": false,
    "pycharm": {
     "name": "#%%\n"
    }
   }
  },
  {
   "cell_type": "code",
   "execution_count": null,
   "outputs": [],
   "source": [],
   "metadata": {
    "collapsed": false,
    "pycharm": {
     "name": "#%%\n"
    }
   }
  }
 ],
 "metadata": {
  "kernelspec": {
   "display_name": "Python 3",
   "language": "python",
   "name": "python3"
  },
  "language_info": {
   "codemirror_mode": {
    "name": "ipython",
    "version": 2
   },
   "file_extension": ".py",
   "mimetype": "text/x-python",
   "name": "python",
   "nbconvert_exporter": "python",
   "pygments_lexer": "ipython2",
   "version": "2.7.6"
  }
 },
 "nbformat": 4,
 "nbformat_minor": 0
}