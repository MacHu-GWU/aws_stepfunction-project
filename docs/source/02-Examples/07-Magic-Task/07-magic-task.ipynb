{
 "cells": [
  {
   "cell_type": "markdown",
   "source": [
    "# Magic Task\n",
    "\n",
    "## What is Magic Task\n",
    "\n",
    "The nature of the Amazon State Machine Definition is just a JSON DSL (Domain specific language). It uses special syntax like ``InputPath``, ``Parameters``, ``ResultSelector``, ``ResultPath``, ``OutputPath`` and ``ChoiceRule`` to provide basic capability to allow you to manipulate input / output data, make conditional choice. The research on user community shows that \"Input/Output data handling\" and \"Conditional Choice\" are difficult to learn and also not flexible to use.\n",
    "\n",
    "**Magic Task** is a feature in ``aws-stepfunction`` library that allows developer to implement \"Input/Output data handling\" and \"Conditional Choice\" in pure python function, and automatically creates the backend lambda function and hook up your tasks. With **Magic Task**, you no longer need to write ``JSON notation`` and ``ChoiceRule`` at all, instead, you just write your python code.\n",
    "\n",
    "**Example**\n",
    "\n",
    "This is an example from [official doc](https://docs.aws.amazon.com/step-functions/latest/dg/input-output-inputpath-params.html):\n",
    "\n",
    "State Input:\n",
    "\n",
    "```python\n",
    "{\n",
    "    \"comment\": \"Example for InputPath.\",\n",
    "    \"dataset1\": {\n",
    "        \"val1\": 1,\n",
    "        \"val2\": 2,\n",
    "        \"val3\": 3\n",
    "    },\n",
    "    \"dataset2\": {\n",
    "        \"val1\": \"a\",\n",
    "        \"val2\": \"b\",\n",
    "        \"val3\": \"c\"\n",
    "    }\n",
    "}\n",
    "```\n",
    "\n",
    "``InputPath``:\n",
    "\n",
    "```python\n",
    "{\n",
    "    \"InputPath\": \"$.dataset2\"\n",
    "}\n",
    "```\n",
    "\n",
    "With the previous InputPath, the following is the JSON that is passed as the input.\n",
    "\n",
    "```python\n",
    "{\n",
    "    \"val1\": \"a\",\n",
    "    \"val2\": \"b\",\n",
    "    \"val3\": \"c\"\n",
    "}\n",
    "```\n",
    "\n",
    "**With Magic Task**\n",
    "\n",
    "You just need to write:\n",
    "\n",
    "```python\n",
    "def lambda_handler(event, context):\n",
    "    return event[\"dataset2\"]\n",
    "```\n",
    "\n",
    "Of course, you can add data schema definition to improve readability:\n",
    "\n",
    "```python\n",
    "import dataclasses\n",
    "\n",
    "\n",
    "@dataclasses.dataclass\n",
    "class InputData:\n",
    "    comment: str\n",
    "    dataset1: dict\n",
    "    dataset2: dict\n",
    "\n",
    "\n",
    "@dataclasses.dataclass\n",
    "class OutputData:\n",
    "    val1: str\n",
    "    val2: str\n",
    "    val3: str\n",
    "\n",
    "\n",
    "def lambda_handler(event, context):\n",
    "    input_data = InputData(**event)\n",
    "    output_data = OutputData(**input_data.dataset2)\n",
    "    return dataclasses.asdict(output_data)\n",
    "```\n",
    "\n",
    "\n",
    "Reference:\n",
    "\n",
    "- [Input Output Filtering](https://docs.aws.amazon.com/step-functions/latest/dg/concepts-input-output-filtering.html)\n",
    "- [Choice](https://docs.aws.amazon.com/step-functions/latest/dg/amazon-states-language-choice-state.html)"
   ],
   "metadata": {
    "collapsed": false,
    "pycharm": {
     "name": "#%% md\n"
    }
   }
  },
  {
   "cell_type": "markdown",
   "source": [
    "## Define Workflow, State and StateMachine\n",
    "\n",
    "First, let's import required libraries"
   ],
   "metadata": {
    "collapsed": false,
    "pycharm": {
     "name": "#%% md\n"
    }
   }
  },
  {
   "cell_type": "code",
   "execution_count": 1,
   "outputs": [],
   "source": [
    "import os\n",
    "import json\n",
    "\n",
    "from pathlib_mate import Path\n",
    "import aws_stepfunction as sfn\n",
    "from aws_stepfunction.magic import LambdaTask\n",
    "\n",
    "from boto_session_manager import BotoSesManager\n",
    "from rich import print as rprint\n",
    "\n",
    "dir_here = Path(os.getcwd()).absolute()\n",
    "\n",
    "bsm = BotoSesManager(\n",
    "    profile_name=\"aws_data_lab_sanhe_us_east_1\",\n",
    "    region_name=\"us-east-1\",\n",
    ")"
   ],
   "metadata": {
    "collapsed": false,
    "pycharm": {
     "name": "#%%\n"
    }
   }
  },
  {
   "cell_type": "markdown",
   "source": [
    "## Define Magic Tasks"
   ],
   "metadata": {
    "collapsed": false,
    "pycharm": {
     "name": "#%% md\n"
    }
   }
  },
  {
   "cell_type": "code",
   "execution_count": 2,
   "outputs": [
    {
     "name": "stdout",
     "output_type": "stream",
     "text": [
      "preview workflow definition\n"
     ]
    },
    {
     "data": {
      "text/plain": "\u001B[1m{\u001B[0m\n    \u001B[32m'StartAt'\u001B[0m: \u001B[32m'Task1-Get-Order-Detail'\u001B[0m,\n    \u001B[32m'States'\u001B[0m: \u001B[1m{\u001B[0m\n        \u001B[32m'Task1-Get-Order-Detail'\u001B[0m: \u001B[1m{\u001B[0m\n            \u001B[32m'Type'\u001B[0m: \u001B[32m'Task'\u001B[0m,\n            \u001B[32m'Resource'\u001B[0m: \u001B[32m'arn:aws:states:::lambda:invoke'\u001B[0m,\n            \u001B[32m'Next'\u001B[0m: \u001B[32m'Parallel-after-Task1-Get-Order-Detail'\u001B[0m,\n            \u001B[32m'Parameters'\u001B[0m: \u001B[1m{\u001B[0m\n                \u001B[32m'Payload.$'\u001B[0m: \u001B[32m'$'\u001B[0m,\n                \u001B[32m'FunctionName'\u001B[0m: \n\u001B[32m'arn:aws:lambda:us-east-1:669508176277:function:aws_stepfunction_magic_task_demo-task1_get_order_detail'\u001B[0m\n            \u001B[1m}\u001B[0m,\n            \u001B[32m'OutputPath'\u001B[0m: \u001B[32m'$.Payload'\u001B[0m,\n            \u001B[32m'Retry'\u001B[0m: \u001B[1m[\u001B[0m\n                \u001B[1m{\u001B[0m\n                    \u001B[32m'ErrorEquals'\u001B[0m: \u001B[1m[\u001B[0m\n                        \u001B[32m'Lambda.ServiceException'\u001B[0m,\n                        \u001B[32m'Lambda.AWSLambdaException'\u001B[0m,\n                        \u001B[32m'Lambda.SdkClientException'\u001B[0m\n                    \u001B[1m]\u001B[0m,\n                    \u001B[32m'IntervalSeconds'\u001B[0m: \u001B[1;36m2\u001B[0m,\n                    \u001B[32m'BackoffRate'\u001B[0m: \u001B[1;36m2\u001B[0m,\n                    \u001B[32m'MaxAttempts'\u001B[0m: \u001B[1;36m3\u001B[0m\n                \u001B[1m}\u001B[0m\n            \u001B[1m]\u001B[0m\n        \u001B[1m}\u001B[0m,\n        \u001B[32m'Parallel-after-Task1-Get-Order-Detail'\u001B[0m: \u001B[1m{\u001B[0m\n            \u001B[32m'Type'\u001B[0m: \u001B[32m'Parallel'\u001B[0m,\n            \u001B[32m'Branches'\u001B[0m: \u001B[1m[\u001B[0m\n                \u001B[1m{\u001B[0m\n                    \u001B[32m'StartAt'\u001B[0m: \u001B[32m'Task2a-1-Extract-Items'\u001B[0m,\n                    \u001B[32m'States'\u001B[0m: \u001B[1m{\u001B[0m\n                        \u001B[32m'Task2a-1-Extract-Items'\u001B[0m: \u001B[1m{\u001B[0m\n                            \u001B[32m'Type'\u001B[0m: \u001B[32m'Task'\u001B[0m,\n                            \u001B[32m'Resource'\u001B[0m: \u001B[32m'arn:aws:states:::lambda:invoke'\u001B[0m,\n                            \u001B[32m'Next'\u001B[0m: \u001B[32m'Task2a-2-Get-Item-Cost'\u001B[0m,\n                            \u001B[32m'Parameters'\u001B[0m: \u001B[1m{\u001B[0m\n                                \u001B[32m'Payload.$'\u001B[0m: \u001B[32m'$'\u001B[0m,\n                                \u001B[32m'FunctionName'\u001B[0m: \n\u001B[32m'arn:aws:lambda:us-east-1:669508176277:function:aws_stepfunction_magic_task_demo-task2a_1_extract_items'\u001B[0m\n                            \u001B[1m}\u001B[0m,\n                            \u001B[32m'OutputPath'\u001B[0m: \u001B[32m'$.Payload'\u001B[0m,\n                            \u001B[32m'Retry'\u001B[0m: \u001B[1m[\u001B[0m\n                                \u001B[1m{\u001B[0m\n                                    \u001B[32m'ErrorEquals'\u001B[0m: \u001B[1m[\u001B[0m\n                                        \u001B[32m'Lambda.ServiceException'\u001B[0m,\n                                        \u001B[32m'Lambda.AWSLambdaException'\u001B[0m,\n                                        \u001B[32m'Lambda.SdkClientException'\u001B[0m\n                                    \u001B[1m]\u001B[0m,\n                                    \u001B[32m'IntervalSeconds'\u001B[0m: \u001B[1;36m2\u001B[0m,\n                                    \u001B[32m'BackoffRate'\u001B[0m: \u001B[1;36m2\u001B[0m,\n                                    \u001B[32m'MaxAttempts'\u001B[0m: \u001B[1;36m3\u001B[0m\n                                \u001B[1m}\u001B[0m\n                            \u001B[1m]\u001B[0m\n                        \u001B[1m}\u001B[0m,\n                        \u001B[32m'Task2a-2-Get-Item-Cost'\u001B[0m: \u001B[1m{\u001B[0m\n                            \u001B[32m'Type'\u001B[0m: \u001B[32m'Task'\u001B[0m,\n                            \u001B[32m'Resource'\u001B[0m: \u001B[32m'arn:aws:states:::lambda:invoke'\u001B[0m,\n                            \u001B[32m'End'\u001B[0m: \u001B[3;92mTrue\u001B[0m,\n                            \u001B[32m'Parameters'\u001B[0m: \u001B[1m{\u001B[0m\n                                \u001B[32m'Payload.$'\u001B[0m: \u001B[32m'$'\u001B[0m,\n                                \u001B[32m'FunctionName'\u001B[0m: \n\u001B[32m'arn:aws:lambda:us-east-1:669508176277:function:aws_stepfunction_magic_task_demo-task2a_2_get_item_cost'\u001B[0m\n                            \u001B[1m}\u001B[0m,\n                            \u001B[32m'OutputPath'\u001B[0m: \u001B[32m'$.Payload'\u001B[0m,\n                            \u001B[32m'Retry'\u001B[0m: \u001B[1m[\u001B[0m\n                                \u001B[1m{\u001B[0m\n                                    \u001B[32m'ErrorEquals'\u001B[0m: \u001B[1m[\u001B[0m\n                                        \u001B[32m'Lambda.ServiceException'\u001B[0m,\n                                        \u001B[32m'Lambda.AWSLambdaException'\u001B[0m,\n                                        \u001B[32m'Lambda.SdkClientException'\u001B[0m\n                                    \u001B[1m]\u001B[0m,\n                                    \u001B[32m'IntervalSeconds'\u001B[0m: \u001B[1;36m2\u001B[0m,\n                                    \u001B[32m'BackoffRate'\u001B[0m: \u001B[1;36m2\u001B[0m,\n                                    \u001B[32m'MaxAttempts'\u001B[0m: \u001B[1;36m3\u001B[0m\n                                \u001B[1m}\u001B[0m\n                            \u001B[1m]\u001B[0m\n                        \u001B[1m}\u001B[0m\n                    \u001B[1m}\u001B[0m\n                \u001B[1m}\u001B[0m,\n                \u001B[1m{\u001B[0m\n                    \u001B[32m'StartAt'\u001B[0m: \u001B[32m'Task2b-1-Extract-Ship-Address'\u001B[0m,\n                    \u001B[32m'States'\u001B[0m: \u001B[1m{\u001B[0m\n                        \u001B[32m'Task2b-1-Extract-Ship-Address'\u001B[0m: \u001B[1m{\u001B[0m\n                            \u001B[32m'Type'\u001B[0m: \u001B[32m'Task'\u001B[0m,\n                            \u001B[32m'Resource'\u001B[0m: \u001B[32m'arn:aws:states:::lambda:invoke'\u001B[0m,\n                            \u001B[32m'Next'\u001B[0m: \u001B[32m'Task2b-2-Get-Ship-Cost'\u001B[0m,\n                            \u001B[32m'Parameters'\u001B[0m: \u001B[1m{\u001B[0m\n                                \u001B[32m'Payload.$'\u001B[0m: \u001B[32m'$'\u001B[0m,\n                                \u001B[32m'FunctionName'\u001B[0m: \n\u001B[32m'arn:aws:lambda:us-east-1:669508176277:function:aws_stepfunction_magic_task_demo-task2b_1_extract_ship_address'\u001B[0m\n                            \u001B[1m}\u001B[0m,\n                            \u001B[32m'OutputPath'\u001B[0m: \u001B[32m'$.Payload'\u001B[0m,\n                            \u001B[32m'Retry'\u001B[0m: \u001B[1m[\u001B[0m\n                                \u001B[1m{\u001B[0m\n                                    \u001B[32m'ErrorEquals'\u001B[0m: \u001B[1m[\u001B[0m\n                                        \u001B[32m'Lambda.ServiceException'\u001B[0m,\n                                        \u001B[32m'Lambda.AWSLambdaException'\u001B[0m,\n                                        \u001B[32m'Lambda.SdkClientException'\u001B[0m\n                                    \u001B[1m]\u001B[0m,\n                                    \u001B[32m'IntervalSeconds'\u001B[0m: \u001B[1;36m2\u001B[0m,\n                                    \u001B[32m'BackoffRate'\u001B[0m: \u001B[1;36m2\u001B[0m,\n                                    \u001B[32m'MaxAttempts'\u001B[0m: \u001B[1;36m3\u001B[0m\n                                \u001B[1m}\u001B[0m\n                            \u001B[1m]\u001B[0m\n                        \u001B[1m}\u001B[0m,\n                        \u001B[32m'Task2b-2-Get-Ship-Cost'\u001B[0m: \u001B[1m{\u001B[0m\n                            \u001B[32m'Type'\u001B[0m: \u001B[32m'Task'\u001B[0m,\n                            \u001B[32m'Resource'\u001B[0m: \u001B[32m'arn:aws:states:::lambda:invoke'\u001B[0m,\n                            \u001B[32m'End'\u001B[0m: \u001B[3;92mTrue\u001B[0m,\n                            \u001B[32m'Parameters'\u001B[0m: \u001B[1m{\u001B[0m\n                                \u001B[32m'Payload.$'\u001B[0m: \u001B[32m'$'\u001B[0m,\n                                \u001B[32m'FunctionName'\u001B[0m: \n\u001B[32m'arn:aws:lambda:us-east-1:669508176277:function:aws_stepfunction_magic_task_demo-task2b_2_get_ship_cost'\u001B[0m\n                            \u001B[1m}\u001B[0m,\n                            \u001B[32m'OutputPath'\u001B[0m: \u001B[32m'$.Payload'\u001B[0m,\n                            \u001B[32m'Retry'\u001B[0m: \u001B[1m[\u001B[0m\n                                \u001B[1m{\u001B[0m\n                                    \u001B[32m'ErrorEquals'\u001B[0m: \u001B[1m[\u001B[0m\n                                        \u001B[32m'Lambda.ServiceException'\u001B[0m,\n                                        \u001B[32m'Lambda.AWSLambdaException'\u001B[0m,\n                                        \u001B[32m'Lambda.SdkClientException'\u001B[0m\n                                    \u001B[1m]\u001B[0m,\n                                    \u001B[32m'IntervalSeconds'\u001B[0m: \u001B[1;36m2\u001B[0m,\n                                    \u001B[32m'BackoffRate'\u001B[0m: \u001B[1;36m2\u001B[0m,\n                                    \u001B[32m'MaxAttempts'\u001B[0m: \u001B[1;36m3\u001B[0m\n                                \u001B[1m}\u001B[0m\n                            \u001B[1m]\u001B[0m\n                        \u001B[1m}\u001B[0m\n                    \u001B[1m}\u001B[0m\n                \u001B[1m}\u001B[0m\n            \u001B[1m]\u001B[0m,\n            \u001B[32m'Next'\u001B[0m: \u001B[32m'Task3-Find-Balance'\u001B[0m\n        \u001B[1m}\u001B[0m,\n        \u001B[32m'Task3-Find-Balance'\u001B[0m: \u001B[1m{\u001B[0m\n            \u001B[32m'Type'\u001B[0m: \u001B[32m'Task'\u001B[0m,\n            \u001B[32m'Resource'\u001B[0m: \u001B[32m'arn:aws:states:::lambda:invoke'\u001B[0m,\n            \u001B[32m'Next'\u001B[0m: \u001B[32m'Task4-Process-Payment'\u001B[0m,\n            \u001B[32m'Parameters'\u001B[0m: \u001B[1m{\u001B[0m\n                \u001B[32m'Payload.$'\u001B[0m: \u001B[32m'$'\u001B[0m,\n                \u001B[32m'FunctionName'\u001B[0m: \n\u001B[32m'arn:aws:lambda:us-east-1:669508176277:function:aws_stepfunction_magic_task_demo-task3_find_balance'\u001B[0m\n            \u001B[1m}\u001B[0m,\n            \u001B[32m'OutputPath'\u001B[0m: \u001B[32m'$.Payload'\u001B[0m,\n            \u001B[32m'Retry'\u001B[0m: \u001B[1m[\u001B[0m\n                \u001B[1m{\u001B[0m\n                    \u001B[32m'ErrorEquals'\u001B[0m: \u001B[1m[\u001B[0m\n                        \u001B[32m'Lambda.ServiceException'\u001B[0m,\n                        \u001B[32m'Lambda.AWSLambdaException'\u001B[0m,\n                        \u001B[32m'Lambda.SdkClientException'\u001B[0m\n                    \u001B[1m]\u001B[0m,\n                    \u001B[32m'IntervalSeconds'\u001B[0m: \u001B[1;36m2\u001B[0m,\n                    \u001B[32m'BackoffRate'\u001B[0m: \u001B[1;36m2\u001B[0m,\n                    \u001B[32m'MaxAttempts'\u001B[0m: \u001B[1;36m3\u001B[0m\n                \u001B[1m}\u001B[0m\n            \u001B[1m]\u001B[0m\n        \u001B[1m}\u001B[0m,\n        \u001B[32m'Task4-Process-Payment'\u001B[0m: \u001B[1m{\u001B[0m\n            \u001B[32m'Type'\u001B[0m: \u001B[32m'Task'\u001B[0m,\n            \u001B[32m'Resource'\u001B[0m: \u001B[32m'arn:aws:states:::lambda:invoke'\u001B[0m,\n            \u001B[32m'End'\u001B[0m: \u001B[3;92mTrue\u001B[0m,\n            \u001B[32m'Parameters'\u001B[0m: \u001B[1m{\u001B[0m\n                \u001B[32m'Payload.$'\u001B[0m: \u001B[32m'$'\u001B[0m,\n                \u001B[32m'FunctionName'\u001B[0m: \n\u001B[32m'arn:aws:lambda:us-east-1:669508176277:function:aws_stepfunction_magic_task_demo-task4_process_payment'\u001B[0m\n            \u001B[1m}\u001B[0m,\n            \u001B[32m'OutputPath'\u001B[0m: \u001B[32m'$.Payload'\u001B[0m,\n            \u001B[32m'Retry'\u001B[0m: \u001B[1m[\u001B[0m\n                \u001B[1m{\u001B[0m\n                    \u001B[32m'ErrorEquals'\u001B[0m: \u001B[1m[\u001B[0m\n                        \u001B[32m'Lambda.ServiceException'\u001B[0m,\n                        \u001B[32m'Lambda.AWSLambdaException'\u001B[0m,\n                        \u001B[32m'Lambda.SdkClientException'\u001B[0m\n                    \u001B[1m]\u001B[0m,\n                    \u001B[32m'IntervalSeconds'\u001B[0m: \u001B[1;36m2\u001B[0m,\n                    \u001B[32m'BackoffRate'\u001B[0m: \u001B[1;36m2\u001B[0m,\n                    \u001B[32m'MaxAttempts'\u001B[0m: \u001B[1;36m3\u001B[0m\n                \u001B[1m}\u001B[0m\n            \u001B[1m]\u001B[0m\n        \u001B[1m}\u001B[0m\n    \u001B[1m}\u001B[0m\n\u001B[1m}\u001B[0m\n",
      "text/html": "<pre style=\"white-space:pre;overflow-x:auto;line-height:normal;font-family:Menlo,'DejaVu Sans Mono',consolas,'Courier New',monospace\"><span style=\"font-weight: bold\">{</span>\n    <span style=\"color: #008000; text-decoration-color: #008000\">'StartAt'</span>: <span style=\"color: #008000; text-decoration-color: #008000\">'Task1-Get-Order-Detail'</span>,\n    <span style=\"color: #008000; text-decoration-color: #008000\">'States'</span>: <span style=\"font-weight: bold\">{</span>\n        <span style=\"color: #008000; text-decoration-color: #008000\">'Task1-Get-Order-Detail'</span>: <span style=\"font-weight: bold\">{</span>\n            <span style=\"color: #008000; text-decoration-color: #008000\">'Type'</span>: <span style=\"color: #008000; text-decoration-color: #008000\">'Task'</span>,\n            <span style=\"color: #008000; text-decoration-color: #008000\">'Resource'</span>: <span style=\"color: #008000; text-decoration-color: #008000\">'arn:aws:states:::lambda:invoke'</span>,\n            <span style=\"color: #008000; text-decoration-color: #008000\">'Next'</span>: <span style=\"color: #008000; text-decoration-color: #008000\">'Parallel-after-Task1-Get-Order-Detail'</span>,\n            <span style=\"color: #008000; text-decoration-color: #008000\">'Parameters'</span>: <span style=\"font-weight: bold\">{</span>\n                <span style=\"color: #008000; text-decoration-color: #008000\">'Payload.$'</span>: <span style=\"color: #008000; text-decoration-color: #008000\">'$'</span>,\n                <span style=\"color: #008000; text-decoration-color: #008000\">'FunctionName'</span>: \n<span style=\"color: #008000; text-decoration-color: #008000\">'arn:aws:lambda:us-east-1:669508176277:function:aws_stepfunction_magic_task_demo-task1_get_order_detail'</span>\n            <span style=\"font-weight: bold\">}</span>,\n            <span style=\"color: #008000; text-decoration-color: #008000\">'OutputPath'</span>: <span style=\"color: #008000; text-decoration-color: #008000\">'$.Payload'</span>,\n            <span style=\"color: #008000; text-decoration-color: #008000\">'Retry'</span>: <span style=\"font-weight: bold\">[</span>\n                <span style=\"font-weight: bold\">{</span>\n                    <span style=\"color: #008000; text-decoration-color: #008000\">'ErrorEquals'</span>: <span style=\"font-weight: bold\">[</span>\n                        <span style=\"color: #008000; text-decoration-color: #008000\">'Lambda.ServiceException'</span>,\n                        <span style=\"color: #008000; text-decoration-color: #008000\">'Lambda.AWSLambdaException'</span>,\n                        <span style=\"color: #008000; text-decoration-color: #008000\">'Lambda.SdkClientException'</span>\n                    <span style=\"font-weight: bold\">]</span>,\n                    <span style=\"color: #008000; text-decoration-color: #008000\">'IntervalSeconds'</span>: <span style=\"color: #008080; text-decoration-color: #008080; font-weight: bold\">2</span>,\n                    <span style=\"color: #008000; text-decoration-color: #008000\">'BackoffRate'</span>: <span style=\"color: #008080; text-decoration-color: #008080; font-weight: bold\">2</span>,\n                    <span style=\"color: #008000; text-decoration-color: #008000\">'MaxAttempts'</span>: <span style=\"color: #008080; text-decoration-color: #008080; font-weight: bold\">3</span>\n                <span style=\"font-weight: bold\">}</span>\n            <span style=\"font-weight: bold\">]</span>\n        <span style=\"font-weight: bold\">}</span>,\n        <span style=\"color: #008000; text-decoration-color: #008000\">'Parallel-after-Task1-Get-Order-Detail'</span>: <span style=\"font-weight: bold\">{</span>\n            <span style=\"color: #008000; text-decoration-color: #008000\">'Type'</span>: <span style=\"color: #008000; text-decoration-color: #008000\">'Parallel'</span>,\n            <span style=\"color: #008000; text-decoration-color: #008000\">'Branches'</span>: <span style=\"font-weight: bold\">[</span>\n                <span style=\"font-weight: bold\">{</span>\n                    <span style=\"color: #008000; text-decoration-color: #008000\">'StartAt'</span>: <span style=\"color: #008000; text-decoration-color: #008000\">'Task2a-1-Extract-Items'</span>,\n                    <span style=\"color: #008000; text-decoration-color: #008000\">'States'</span>: <span style=\"font-weight: bold\">{</span>\n                        <span style=\"color: #008000; text-decoration-color: #008000\">'Task2a-1-Extract-Items'</span>: <span style=\"font-weight: bold\">{</span>\n                            <span style=\"color: #008000; text-decoration-color: #008000\">'Type'</span>: <span style=\"color: #008000; text-decoration-color: #008000\">'Task'</span>,\n                            <span style=\"color: #008000; text-decoration-color: #008000\">'Resource'</span>: <span style=\"color: #008000; text-decoration-color: #008000\">'arn:aws:states:::lambda:invoke'</span>,\n                            <span style=\"color: #008000; text-decoration-color: #008000\">'Next'</span>: <span style=\"color: #008000; text-decoration-color: #008000\">'Task2a-2-Get-Item-Cost'</span>,\n                            <span style=\"color: #008000; text-decoration-color: #008000\">'Parameters'</span>: <span style=\"font-weight: bold\">{</span>\n                                <span style=\"color: #008000; text-decoration-color: #008000\">'Payload.$'</span>: <span style=\"color: #008000; text-decoration-color: #008000\">'$'</span>,\n                                <span style=\"color: #008000; text-decoration-color: #008000\">'FunctionName'</span>: \n<span style=\"color: #008000; text-decoration-color: #008000\">'arn:aws:lambda:us-east-1:669508176277:function:aws_stepfunction_magic_task_demo-task2a_1_extract_items'</span>\n                            <span style=\"font-weight: bold\">}</span>,\n                            <span style=\"color: #008000; text-decoration-color: #008000\">'OutputPath'</span>: <span style=\"color: #008000; text-decoration-color: #008000\">'$.Payload'</span>,\n                            <span style=\"color: #008000; text-decoration-color: #008000\">'Retry'</span>: <span style=\"font-weight: bold\">[</span>\n                                <span style=\"font-weight: bold\">{</span>\n                                    <span style=\"color: #008000; text-decoration-color: #008000\">'ErrorEquals'</span>: <span style=\"font-weight: bold\">[</span>\n                                        <span style=\"color: #008000; text-decoration-color: #008000\">'Lambda.ServiceException'</span>,\n                                        <span style=\"color: #008000; text-decoration-color: #008000\">'Lambda.AWSLambdaException'</span>,\n                                        <span style=\"color: #008000; text-decoration-color: #008000\">'Lambda.SdkClientException'</span>\n                                    <span style=\"font-weight: bold\">]</span>,\n                                    <span style=\"color: #008000; text-decoration-color: #008000\">'IntervalSeconds'</span>: <span style=\"color: #008080; text-decoration-color: #008080; font-weight: bold\">2</span>,\n                                    <span style=\"color: #008000; text-decoration-color: #008000\">'BackoffRate'</span>: <span style=\"color: #008080; text-decoration-color: #008080; font-weight: bold\">2</span>,\n                                    <span style=\"color: #008000; text-decoration-color: #008000\">'MaxAttempts'</span>: <span style=\"color: #008080; text-decoration-color: #008080; font-weight: bold\">3</span>\n                                <span style=\"font-weight: bold\">}</span>\n                            <span style=\"font-weight: bold\">]</span>\n                        <span style=\"font-weight: bold\">}</span>,\n                        <span style=\"color: #008000; text-decoration-color: #008000\">'Task2a-2-Get-Item-Cost'</span>: <span style=\"font-weight: bold\">{</span>\n                            <span style=\"color: #008000; text-decoration-color: #008000\">'Type'</span>: <span style=\"color: #008000; text-decoration-color: #008000\">'Task'</span>,\n                            <span style=\"color: #008000; text-decoration-color: #008000\">'Resource'</span>: <span style=\"color: #008000; text-decoration-color: #008000\">'arn:aws:states:::lambda:invoke'</span>,\n                            <span style=\"color: #008000; text-decoration-color: #008000\">'End'</span>: <span style=\"color: #00ff00; text-decoration-color: #00ff00; font-style: italic\">True</span>,\n                            <span style=\"color: #008000; text-decoration-color: #008000\">'Parameters'</span>: <span style=\"font-weight: bold\">{</span>\n                                <span style=\"color: #008000; text-decoration-color: #008000\">'Payload.$'</span>: <span style=\"color: #008000; text-decoration-color: #008000\">'$'</span>,\n                                <span style=\"color: #008000; text-decoration-color: #008000\">'FunctionName'</span>: \n<span style=\"color: #008000; text-decoration-color: #008000\">'arn:aws:lambda:us-east-1:669508176277:function:aws_stepfunction_magic_task_demo-task2a_2_get_item_cost'</span>\n                            <span style=\"font-weight: bold\">}</span>,\n                            <span style=\"color: #008000; text-decoration-color: #008000\">'OutputPath'</span>: <span style=\"color: #008000; text-decoration-color: #008000\">'$.Payload'</span>,\n                            <span style=\"color: #008000; text-decoration-color: #008000\">'Retry'</span>: <span style=\"font-weight: bold\">[</span>\n                                <span style=\"font-weight: bold\">{</span>\n                                    <span style=\"color: #008000; text-decoration-color: #008000\">'ErrorEquals'</span>: <span style=\"font-weight: bold\">[</span>\n                                        <span style=\"color: #008000; text-decoration-color: #008000\">'Lambda.ServiceException'</span>,\n                                        <span style=\"color: #008000; text-decoration-color: #008000\">'Lambda.AWSLambdaException'</span>,\n                                        <span style=\"color: #008000; text-decoration-color: #008000\">'Lambda.SdkClientException'</span>\n                                    <span style=\"font-weight: bold\">]</span>,\n                                    <span style=\"color: #008000; text-decoration-color: #008000\">'IntervalSeconds'</span>: <span style=\"color: #008080; text-decoration-color: #008080; font-weight: bold\">2</span>,\n                                    <span style=\"color: #008000; text-decoration-color: #008000\">'BackoffRate'</span>: <span style=\"color: #008080; text-decoration-color: #008080; font-weight: bold\">2</span>,\n                                    <span style=\"color: #008000; text-decoration-color: #008000\">'MaxAttempts'</span>: <span style=\"color: #008080; text-decoration-color: #008080; font-weight: bold\">3</span>\n                                <span style=\"font-weight: bold\">}</span>\n                            <span style=\"font-weight: bold\">]</span>\n                        <span style=\"font-weight: bold\">}</span>\n                    <span style=\"font-weight: bold\">}</span>\n                <span style=\"font-weight: bold\">}</span>,\n                <span style=\"font-weight: bold\">{</span>\n                    <span style=\"color: #008000; text-decoration-color: #008000\">'StartAt'</span>: <span style=\"color: #008000; text-decoration-color: #008000\">'Task2b-1-Extract-Ship-Address'</span>,\n                    <span style=\"color: #008000; text-decoration-color: #008000\">'States'</span>: <span style=\"font-weight: bold\">{</span>\n                        <span style=\"color: #008000; text-decoration-color: #008000\">'Task2b-1-Extract-Ship-Address'</span>: <span style=\"font-weight: bold\">{</span>\n                            <span style=\"color: #008000; text-decoration-color: #008000\">'Type'</span>: <span style=\"color: #008000; text-decoration-color: #008000\">'Task'</span>,\n                            <span style=\"color: #008000; text-decoration-color: #008000\">'Resource'</span>: <span style=\"color: #008000; text-decoration-color: #008000\">'arn:aws:states:::lambda:invoke'</span>,\n                            <span style=\"color: #008000; text-decoration-color: #008000\">'Next'</span>: <span style=\"color: #008000; text-decoration-color: #008000\">'Task2b-2-Get-Ship-Cost'</span>,\n                            <span style=\"color: #008000; text-decoration-color: #008000\">'Parameters'</span>: <span style=\"font-weight: bold\">{</span>\n                                <span style=\"color: #008000; text-decoration-color: #008000\">'Payload.$'</span>: <span style=\"color: #008000; text-decoration-color: #008000\">'$'</span>,\n                                <span style=\"color: #008000; text-decoration-color: #008000\">'FunctionName'</span>: \n<span style=\"color: #008000; text-decoration-color: #008000\">'arn:aws:lambda:us-east-1:669508176277:function:aws_stepfunction_magic_task_demo-task2b_1_extract_ship_address'</span>\n                            <span style=\"font-weight: bold\">}</span>,\n                            <span style=\"color: #008000; text-decoration-color: #008000\">'OutputPath'</span>: <span style=\"color: #008000; text-decoration-color: #008000\">'$.Payload'</span>,\n                            <span style=\"color: #008000; text-decoration-color: #008000\">'Retry'</span>: <span style=\"font-weight: bold\">[</span>\n                                <span style=\"font-weight: bold\">{</span>\n                                    <span style=\"color: #008000; text-decoration-color: #008000\">'ErrorEquals'</span>: <span style=\"font-weight: bold\">[</span>\n                                        <span style=\"color: #008000; text-decoration-color: #008000\">'Lambda.ServiceException'</span>,\n                                        <span style=\"color: #008000; text-decoration-color: #008000\">'Lambda.AWSLambdaException'</span>,\n                                        <span style=\"color: #008000; text-decoration-color: #008000\">'Lambda.SdkClientException'</span>\n                                    <span style=\"font-weight: bold\">]</span>,\n                                    <span style=\"color: #008000; text-decoration-color: #008000\">'IntervalSeconds'</span>: <span style=\"color: #008080; text-decoration-color: #008080; font-weight: bold\">2</span>,\n                                    <span style=\"color: #008000; text-decoration-color: #008000\">'BackoffRate'</span>: <span style=\"color: #008080; text-decoration-color: #008080; font-weight: bold\">2</span>,\n                                    <span style=\"color: #008000; text-decoration-color: #008000\">'MaxAttempts'</span>: <span style=\"color: #008080; text-decoration-color: #008080; font-weight: bold\">3</span>\n                                <span style=\"font-weight: bold\">}</span>\n                            <span style=\"font-weight: bold\">]</span>\n                        <span style=\"font-weight: bold\">}</span>,\n                        <span style=\"color: #008000; text-decoration-color: #008000\">'Task2b-2-Get-Ship-Cost'</span>: <span style=\"font-weight: bold\">{</span>\n                            <span style=\"color: #008000; text-decoration-color: #008000\">'Type'</span>: <span style=\"color: #008000; text-decoration-color: #008000\">'Task'</span>,\n                            <span style=\"color: #008000; text-decoration-color: #008000\">'Resource'</span>: <span style=\"color: #008000; text-decoration-color: #008000\">'arn:aws:states:::lambda:invoke'</span>,\n                            <span style=\"color: #008000; text-decoration-color: #008000\">'End'</span>: <span style=\"color: #00ff00; text-decoration-color: #00ff00; font-style: italic\">True</span>,\n                            <span style=\"color: #008000; text-decoration-color: #008000\">'Parameters'</span>: <span style=\"font-weight: bold\">{</span>\n                                <span style=\"color: #008000; text-decoration-color: #008000\">'Payload.$'</span>: <span style=\"color: #008000; text-decoration-color: #008000\">'$'</span>,\n                                <span style=\"color: #008000; text-decoration-color: #008000\">'FunctionName'</span>: \n<span style=\"color: #008000; text-decoration-color: #008000\">'arn:aws:lambda:us-east-1:669508176277:function:aws_stepfunction_magic_task_demo-task2b_2_get_ship_cost'</span>\n                            <span style=\"font-weight: bold\">}</span>,\n                            <span style=\"color: #008000; text-decoration-color: #008000\">'OutputPath'</span>: <span style=\"color: #008000; text-decoration-color: #008000\">'$.Payload'</span>,\n                            <span style=\"color: #008000; text-decoration-color: #008000\">'Retry'</span>: <span style=\"font-weight: bold\">[</span>\n                                <span style=\"font-weight: bold\">{</span>\n                                    <span style=\"color: #008000; text-decoration-color: #008000\">'ErrorEquals'</span>: <span style=\"font-weight: bold\">[</span>\n                                        <span style=\"color: #008000; text-decoration-color: #008000\">'Lambda.ServiceException'</span>,\n                                        <span style=\"color: #008000; text-decoration-color: #008000\">'Lambda.AWSLambdaException'</span>,\n                                        <span style=\"color: #008000; text-decoration-color: #008000\">'Lambda.SdkClientException'</span>\n                                    <span style=\"font-weight: bold\">]</span>,\n                                    <span style=\"color: #008000; text-decoration-color: #008000\">'IntervalSeconds'</span>: <span style=\"color: #008080; text-decoration-color: #008080; font-weight: bold\">2</span>,\n                                    <span style=\"color: #008000; text-decoration-color: #008000\">'BackoffRate'</span>: <span style=\"color: #008080; text-decoration-color: #008080; font-weight: bold\">2</span>,\n                                    <span style=\"color: #008000; text-decoration-color: #008000\">'MaxAttempts'</span>: <span style=\"color: #008080; text-decoration-color: #008080; font-weight: bold\">3</span>\n                                <span style=\"font-weight: bold\">}</span>\n                            <span style=\"font-weight: bold\">]</span>\n                        <span style=\"font-weight: bold\">}</span>\n                    <span style=\"font-weight: bold\">}</span>\n                <span style=\"font-weight: bold\">}</span>\n            <span style=\"font-weight: bold\">]</span>,\n            <span style=\"color: #008000; text-decoration-color: #008000\">'Next'</span>: <span style=\"color: #008000; text-decoration-color: #008000\">'Task3-Find-Balance'</span>\n        <span style=\"font-weight: bold\">}</span>,\n        <span style=\"color: #008000; text-decoration-color: #008000\">'Task3-Find-Balance'</span>: <span style=\"font-weight: bold\">{</span>\n            <span style=\"color: #008000; text-decoration-color: #008000\">'Type'</span>: <span style=\"color: #008000; text-decoration-color: #008000\">'Task'</span>,\n            <span style=\"color: #008000; text-decoration-color: #008000\">'Resource'</span>: <span style=\"color: #008000; text-decoration-color: #008000\">'arn:aws:states:::lambda:invoke'</span>,\n            <span style=\"color: #008000; text-decoration-color: #008000\">'Next'</span>: <span style=\"color: #008000; text-decoration-color: #008000\">'Task4-Process-Payment'</span>,\n            <span style=\"color: #008000; text-decoration-color: #008000\">'Parameters'</span>: <span style=\"font-weight: bold\">{</span>\n                <span style=\"color: #008000; text-decoration-color: #008000\">'Payload.$'</span>: <span style=\"color: #008000; text-decoration-color: #008000\">'$'</span>,\n                <span style=\"color: #008000; text-decoration-color: #008000\">'FunctionName'</span>: \n<span style=\"color: #008000; text-decoration-color: #008000\">'arn:aws:lambda:us-east-1:669508176277:function:aws_stepfunction_magic_task_demo-task3_find_balance'</span>\n            <span style=\"font-weight: bold\">}</span>,\n            <span style=\"color: #008000; text-decoration-color: #008000\">'OutputPath'</span>: <span style=\"color: #008000; text-decoration-color: #008000\">'$.Payload'</span>,\n            <span style=\"color: #008000; text-decoration-color: #008000\">'Retry'</span>: <span style=\"font-weight: bold\">[</span>\n                <span style=\"font-weight: bold\">{</span>\n                    <span style=\"color: #008000; text-decoration-color: #008000\">'ErrorEquals'</span>: <span style=\"font-weight: bold\">[</span>\n                        <span style=\"color: #008000; text-decoration-color: #008000\">'Lambda.ServiceException'</span>,\n                        <span style=\"color: #008000; text-decoration-color: #008000\">'Lambda.AWSLambdaException'</span>,\n                        <span style=\"color: #008000; text-decoration-color: #008000\">'Lambda.SdkClientException'</span>\n                    <span style=\"font-weight: bold\">]</span>,\n                    <span style=\"color: #008000; text-decoration-color: #008000\">'IntervalSeconds'</span>: <span style=\"color: #008080; text-decoration-color: #008080; font-weight: bold\">2</span>,\n                    <span style=\"color: #008000; text-decoration-color: #008000\">'BackoffRate'</span>: <span style=\"color: #008080; text-decoration-color: #008080; font-weight: bold\">2</span>,\n                    <span style=\"color: #008000; text-decoration-color: #008000\">'MaxAttempts'</span>: <span style=\"color: #008080; text-decoration-color: #008080; font-weight: bold\">3</span>\n                <span style=\"font-weight: bold\">}</span>\n            <span style=\"font-weight: bold\">]</span>\n        <span style=\"font-weight: bold\">}</span>,\n        <span style=\"color: #008000; text-decoration-color: #008000\">'Task4-Process-Payment'</span>: <span style=\"font-weight: bold\">{</span>\n            <span style=\"color: #008000; text-decoration-color: #008000\">'Type'</span>: <span style=\"color: #008000; text-decoration-color: #008000\">'Task'</span>,\n            <span style=\"color: #008000; text-decoration-color: #008000\">'Resource'</span>: <span style=\"color: #008000; text-decoration-color: #008000\">'arn:aws:states:::lambda:invoke'</span>,\n            <span style=\"color: #008000; text-decoration-color: #008000\">'End'</span>: <span style=\"color: #00ff00; text-decoration-color: #00ff00; font-style: italic\">True</span>,\n            <span style=\"color: #008000; text-decoration-color: #008000\">'Parameters'</span>: <span style=\"font-weight: bold\">{</span>\n                <span style=\"color: #008000; text-decoration-color: #008000\">'Payload.$'</span>: <span style=\"color: #008000; text-decoration-color: #008000\">'$'</span>,\n                <span style=\"color: #008000; text-decoration-color: #008000\">'FunctionName'</span>: \n<span style=\"color: #008000; text-decoration-color: #008000\">'arn:aws:lambda:us-east-1:669508176277:function:aws_stepfunction_magic_task_demo-task4_process_payment'</span>\n            <span style=\"font-weight: bold\">}</span>,\n            <span style=\"color: #008000; text-decoration-color: #008000\">'OutputPath'</span>: <span style=\"color: #008000; text-decoration-color: #008000\">'$.Payload'</span>,\n            <span style=\"color: #008000; text-decoration-color: #008000\">'Retry'</span>: <span style=\"font-weight: bold\">[</span>\n                <span style=\"font-weight: bold\">{</span>\n                    <span style=\"color: #008000; text-decoration-color: #008000\">'ErrorEquals'</span>: <span style=\"font-weight: bold\">[</span>\n                        <span style=\"color: #008000; text-decoration-color: #008000\">'Lambda.ServiceException'</span>,\n                        <span style=\"color: #008000; text-decoration-color: #008000\">'Lambda.AWSLambdaException'</span>,\n                        <span style=\"color: #008000; text-decoration-color: #008000\">'Lambda.SdkClientException'</span>\n                    <span style=\"font-weight: bold\">]</span>,\n                    <span style=\"color: #008000; text-decoration-color: #008000\">'IntervalSeconds'</span>: <span style=\"color: #008080; text-decoration-color: #008080; font-weight: bold\">2</span>,\n                    <span style=\"color: #008000; text-decoration-color: #008000\">'BackoffRate'</span>: <span style=\"color: #008080; text-decoration-color: #008080; font-weight: bold\">2</span>,\n                    <span style=\"color: #008000; text-decoration-color: #008000\">'MaxAttempts'</span>: <span style=\"color: #008080; text-decoration-color: #008080; font-weight: bold\">3</span>\n                <span style=\"font-weight: bold\">}</span>\n            <span style=\"font-weight: bold\">]</span>\n        <span style=\"font-weight: bold\">}</span>\n    <span style=\"font-weight: bold\">}</span>\n<span style=\"font-weight: bold\">}</span>\n</pre>\n"
     },
     "metadata": {},
     "output_type": "display_data"
    },
    {
     "name": "stderr",
     "output_type": "stream",
     "text": [
      "detect whether the magic task is used ...\n",
      "    yes\n",
      "identify necessary S3 bucket and IAM role ...\n",
      "    we need a default IAM role for lambda function\n",
      "    done\n",
      "deploy Lambda Functions ...\n",
      "    upload lambda deployment artifacts ...\n",
      "        upload from /Users/sanhehu/tmp/15598fc58f34fc1f96961b2ac2bfa8d4.zip to s3://669508176277-us-east-1-aws-stepfunction-python-sdk/aws-stepfunction-python-sdk/fb09bdfd614b3527c7b3f83590ccfbaa.zip\n",
      "        declare Lambda Function aws_stepfunction_magic_task_demo-task1_get_order_detail\n",
      "        upload from /Users/sanhehu/tmp/e80c5b01037301fc9fc7505d74c5ff91.zip to s3://669508176277-us-east-1-aws-stepfunction-python-sdk/aws-stepfunction-python-sdk/fbd03d389fb07478101080e0442a0269.zip\n",
      "        declare Lambda Function aws_stepfunction_magic_task_demo-task2a_1_extract_items\n",
      "        upload from /Users/sanhehu/tmp/fa760dbc90fabef2e87d6513173ce8d9.zip to s3://669508176277-us-east-1-aws-stepfunction-python-sdk/aws-stepfunction-python-sdk/5cc18d736eec63de8df2191b29a25981.zip\n",
      "        declare Lambda Function aws_stepfunction_magic_task_demo-task2a_2_get_item_cost\n",
      "        upload from /Users/sanhehu/tmp/000dc7fe1ad3d583858d410068f75c6b.zip to s3://669508176277-us-east-1-aws-stepfunction-python-sdk/aws-stepfunction-python-sdk/4307aed88108209f40ee0374404c7bba.zip\n",
      "        declare Lambda Function aws_stepfunction_magic_task_demo-task2b_1_extract_ship_address\n",
      "        upload from /Users/sanhehu/tmp/009d9755c81982f704e9ac16aee18c5a.zip to s3://669508176277-us-east-1-aws-stepfunction-python-sdk/aws-stepfunction-python-sdk/424a2802586fde6d3ae21361d247a35b.zip\n",
      "        declare Lambda Function aws_stepfunction_magic_task_demo-task2b_2_get_ship_cost\n",
      "        upload from /Users/sanhehu/tmp/fd78f0b11843a3b1b66551709b750844.zip to s3://669508176277-us-east-1-aws-stepfunction-python-sdk/aws-stepfunction-python-sdk/2f82c69cbdc1b07fc72bd90212a32be6.zip\n",
      "        declare Lambda Function aws_stepfunction_magic_task_demo-task3_find_balance\n",
      "        upload from /Users/sanhehu/tmp/1d8e921ecf9d9e39751575d141476cbf.zip to s3://669508176277-us-east-1-aws-stepfunction-python-sdk/aws-stepfunction-python-sdk/e24359e4479a6ec9c37865212c0ff92c.zip\n",
      "        declare Lambda Function aws_stepfunction_magic_task_demo-task4_process_payment\n",
      "deploy magic task Lambda Function ...\n",
      "    preview cloudformation stack status: https://console.aws.amazon.com/cloudformation/home?region=us-east-1#/stacks?filteringStatus=active&filteringText=aws-stepfunction-magic-task-demo&viewNested=true&hideStacks=false&stackId=\n",
      "    no updates are to be performed\n",
      "deploy state machine to 'arn:aws:states:us-east-1:669508176277:stateMachine:aws_stepfunction_magic_task_demo' ...\n",
      "  already exists, update state machine ...\n",
      "  done, preview at: https://us-east-1.console.aws.amazon.com/states/home?region=us-east-1#/visual-editor?stateMachineArn=arn:aws:states:us-east-1:669508176277:stateMachine:aws_stepfunction_magic_task_demo\n"
     ]
    }
   ],
   "source": [
    "workflow = sfn.Workflow()\n",
    "\n",
    "task1_get_order_detail = LambdaTask(\n",
    "    id=\"Task1-Get-Order-Detail\",\n",
    "    lbd_func_name=\"aws_stepfunction_magic_task_demo-task1_get_order_detail\",\n",
    "    lbd_package=\"s1_get_order_detail.py\",\n",
    "    lbd_handler=\"s1_get_order_detail.lambda_handler\",\n",
    "    lbd_aws_account_id=bsm.aws_account_id,\n",
    "    lbd_aws_region=bsm.aws_region,\n",
    ")\n",
    "\n",
    "task2a_1_extract_items = LambdaTask(\n",
    "    id=\"Task2a-1-Extract-Items\",\n",
    "    lbd_func_name=\"aws_stepfunction_magic_task_demo-task2a_1_extract_items\",\n",
    "    lbd_package=\"s2a_1_extract_items.py\",\n",
    "    lbd_handler=\"s2a_1_extract_items.lambda_handler\",\n",
    "    lbd_aws_account_id=bsm.aws_account_id,\n",
    "    lbd_aws_region=bsm.aws_region,\n",
    ")\n",
    "\n",
    "task2a_2_get_item_cost = LambdaTask(\n",
    "    id=\"Task2a-2-Get-Item-Cost\",\n",
    "    lbd_func_name=\"aws_stepfunction_magic_task_demo-task2a_2_get_item_cost\",\n",
    "    lbd_package=\"s2a_2_get_item_cost.py\",\n",
    "    lbd_handler=\"s2a_2_get_item_cost.lambda_handler\",\n",
    "    lbd_aws_account_id=bsm.aws_account_id,\n",
    "    lbd_aws_region=bsm.aws_region,\n",
    ")\n",
    "\n",
    "task2b_1_extract_ship_address = LambdaTask(\n",
    "    id=\"Task2b-1-Extract-Ship-Address\",\n",
    "    lbd_func_name=\"aws_stepfunction_magic_task_demo-task2b_1_extract_ship_address\",\n",
    "    lbd_package=\"s2b_1_extract_ship_address.py\",\n",
    "    lbd_handler=\"s2b_1_extract_ship_address.lambda_handler\",\n",
    "    lbd_aws_account_id=bsm.aws_account_id,\n",
    "    lbd_aws_region=bsm.aws_region,\n",
    ")\n",
    "\n",
    "task2b_2_get_ship_cost = LambdaTask(\n",
    "    id=\"Task2b-2-Get-Ship-Cost\",\n",
    "    lbd_func_name=\"aws_stepfunction_magic_task_demo-task2b_2_get_ship_cost\",\n",
    "    lbd_package=\"s2b_2_get_ship_cost.py\",\n",
    "    lbd_handler=\"s2b_2_get_ship_cost.lambda_handler\",\n",
    "    lbd_aws_account_id=bsm.aws_account_id,\n",
    "    lbd_aws_region=bsm.aws_region,\n",
    ")\n",
    "\n",
    "task3_find_balance = LambdaTask(\n",
    "    id=\"Task3-Find-Balance\",\n",
    "    lbd_func_name=\"aws_stepfunction_magic_task_demo-task3_find_balance\",\n",
    "    lbd_package=\"s3_find_balance.py\",\n",
    "    lbd_handler=\"s3_find_balance.lambda_handler\",\n",
    "    lbd_aws_account_id=bsm.aws_account_id,\n",
    "    lbd_aws_region=bsm.aws_region,\n",
    ")\n",
    "\n",
    "task4_process_payment = LambdaTask(\n",
    "    id=\"Task4-Process-Payment\",\n",
    "    lbd_func_name=\"aws_stepfunction_magic_task_demo-task4_process_payment\",\n",
    "    lbd_package=\"s4_process_payment.py\",\n",
    "    lbd_handler=\"s4_process_payment.lambda_handler\",\n",
    "    lbd_aws_account_id=bsm.aws_account_id,\n",
    "    lbd_aws_region=bsm.aws_region,\n",
    ")\n",
    "\n",
    "(\n",
    "    workflow.start_from(task1_get_order_detail)\n",
    "    .parallel([\n",
    "        (\n",
    "            workflow.subflow_from(task2a_1_extract_items)\n",
    "            .next_then(task2a_2_get_item_cost)\n",
    "            .end()\n",
    "        ),\n",
    "        (\n",
    "            workflow.subflow_from(task2b_1_extract_ship_address)\n",
    "            .next_then(task2b_2_get_ship_cost)\n",
    "            .end()\n",
    "        ),\n",
    "    ])\n",
    "    .next_then(task3_find_balance)\n",
    "    .next_then(task4_process_payment)\n",
    "    .end()\n",
    ")\n",
    "\n",
    "print(\"preview workflow definition\")\n",
    "rprint(workflow.serialize())\n",
    "\n",
    "sfn_name = \"aws_stepfunction_magic_task_demo\"\n",
    "\n",
    "state_machine = sfn.StateMachine(\n",
    "    name=sfn_name,\n",
    "    workflow=workflow,\n",
    "    role_arn=\"arn:aws:iam::669508176277:role/sanhe-for-everything-admin\",\n",
    ")\n",
    "state_machine.set_type_as_express()\n",
    "\n",
    "deploy_result = state_machine.deploy(bsm, verbose=True)"
   ],
   "metadata": {
    "collapsed": false,
    "pycharm": {
     "name": "#%%\n"
    }
   }
  },
  {
   "cell_type": "code",
   "execution_count": 7,
   "outputs": [
    {
     "name": "stderr",
     "output_type": "stream",
     "text": [
      "execute state machine 'arn:aws:states:us-east-1:669508176277:stateMachine:aws_stepfunction_magic_task_demo'\n",
      "  preview at: https://us-east-1.console.aws.amazon.com/states/home?region=us-east-1#/express-executions/details/arn:aws:states:us-east-1:669508176277:express:aws_stepfunction_magic_task_demo:2d727198-828f-4b0b-a147-d99bc1ab231d:94f8d2e5-f51f-498d-99f0-2b2090384894?startDate=1668013293470\n"
     ]
    },
    {
     "name": "stdout",
     "output_type": "stream",
     "text": [
      "\n",
      "input:\n",
      "\n",
      "{\"order_id\": \"order-1\"}\n",
      "\n",
      "output:\n",
      "\n",
      "{\"status\": \"success\"}\n"
     ]
    }
   ],
   "source": [
    "execute_result = state_machine.execute(\n",
    "    bsm,\n",
    "    payload={\"order_id\": \"order-1\"},\n",
    "    sync=True,\n",
    ")\n",
    "\n",
    "input = json.loads(execute_result[\"input\"])\n",
    "output = json.loads(execute_result[\"output\"])\n",
    "print(f\"\\ninput:\\n\")\n",
    "print(json.dumps(input))\n",
    "print(f\"\\noutput:\\n\")\n",
    "print(json.dumps(output))"
   ],
   "metadata": {
    "collapsed": false,
    "pycharm": {
     "name": "#%%\n"
    }
   }
  },
  {
   "cell_type": "code",
   "execution_count": 31,
   "outputs": [
    {
     "data": {
      "text/plain": "\u001B[1m{\u001B[0m\n    \u001B[32m'executionArn'\u001B[0m: \n\u001B[32m'arn:aws:states:us-east-1:669508176277:express:aws_stepfunction_magic_task_demo:6bf7a04f-dec4-41b1-9f77-0633a9a0220\u001B[0m\n\u001B[32m9:57822d00-3e1b-483c-b7d8-20dcf9713fa6'\u001B[0m,\n    \u001B[32m'stateMachineArn'\u001B[0m: \u001B[32m'arn:aws:states:us-east-1:669508176277:stateMachine:aws_stepfunction_magic_task_demo'\u001B[0m,\n    \u001B[32m'name'\u001B[0m: \u001B[32m'6bf7a04f-dec4-41b1-9f77-0633a9a02209'\u001B[0m,\n    \u001B[32m'startDate'\u001B[0m: \u001B[1;35mdatetime.datetime\u001B[0m\u001B[1m(\u001B[0m\u001B[1;36m2022\u001B[0m, \u001B[1;36m11\u001B[0m, \u001B[1;36m9\u001B[0m, \u001B[1;36m11\u001B[0m, \u001B[1;36m46\u001B[0m, \u001B[1;36m44\u001B[0m, \u001B[33mtzinfo\u001B[0m=\u001B[1;35mtzlocal\u001B[0m\u001B[1m(\u001B[0m\u001B[1m)\u001B[0m\u001B[1m)\u001B[0m,\n    \u001B[32m'stopDate'\u001B[0m: \u001B[1;35mdatetime.datetime\u001B[0m\u001B[1m(\u001B[0m\u001B[1;36m2022\u001B[0m, \u001B[1;36m11\u001B[0m, \u001B[1;36m9\u001B[0m, \u001B[1;36m11\u001B[0m, \u001B[1;36m46\u001B[0m, \u001B[1;36m46\u001B[0m, \u001B[1;36m256000\u001B[0m, \u001B[33mtzinfo\u001B[0m=\u001B[1;35mtzlocal\u001B[0m\u001B[1m(\u001B[0m\u001B[1m)\u001B[0m\u001B[1m)\u001B[0m,\n    \u001B[32m'status'\u001B[0m: \u001B[32m'SUCCEEDED'\u001B[0m,\n    \u001B[32m'input'\u001B[0m: \u001B[32m'\u001B[0m\u001B[32m{\u001B[0m\u001B[32m\"order_id\": \"order-1\"\u001B[0m\u001B[32m}\u001B[0m\u001B[32m'\u001B[0m,\n    \u001B[32m'inputDetails'\u001B[0m: \u001B[1m{\u001B[0m\u001B[32m'included'\u001B[0m: \u001B[3;92mTrue\u001B[0m\u001B[1m}\u001B[0m,\n    \u001B[32m'output'\u001B[0m: \u001B[32m'\u001B[0m\u001B[32m{\u001B[0m\u001B[32m\"status\":\"success\"\u001B[0m\u001B[32m}\u001B[0m\u001B[32m'\u001B[0m,\n    \u001B[32m'outputDetails'\u001B[0m: \u001B[1m{\u001B[0m\u001B[32m'included'\u001B[0m: \u001B[3;92mTrue\u001B[0m\u001B[1m}\u001B[0m,\n    \u001B[32m'billingDetails'\u001B[0m: \u001B[1m{\u001B[0m\u001B[32m'billedMemoryUsedInMB'\u001B[0m: \u001B[1;36m64\u001B[0m, \u001B[32m'billedDurationInMilliseconds'\u001B[0m: \u001B[1;36m2300\u001B[0m\u001B[1m}\u001B[0m,\n    \u001B[32m'ResponseMetadata'\u001B[0m: \u001B[1m{\u001B[0m\n        \u001B[32m'RequestId'\u001B[0m: \u001B[32m'8a2ada29-69b1-4d78-b690-7eb3c69c33ae'\u001B[0m,\n        \u001B[32m'HTTPStatusCode'\u001B[0m: \u001B[1;36m200\u001B[0m,\n        \u001B[32m'HTTPHeaders'\u001B[0m: \u001B[1m{\u001B[0m\n            \u001B[32m'x-amzn-requestid'\u001B[0m: \u001B[32m'8a2ada29-69b1-4d78-b690-7eb3c69c33ae'\u001B[0m,\n            \u001B[32m'date'\u001B[0m: \u001B[32m'Wed, 09 Nov 2022 16:46:46 GMT'\u001B[0m,\n            \u001B[32m'content-type'\u001B[0m: \u001B[32m'application/x-amz-json-1.0'\u001B[0m,\n            \u001B[32m'content-length'\u001B[0m: \u001B[32m'772'\u001B[0m\n        \u001B[1m}\u001B[0m,\n        \u001B[32m'RetryAttempts'\u001B[0m: \u001B[1;36m0\u001B[0m\n    \u001B[1m}\u001B[0m\n\u001B[1m}\u001B[0m\n",
      "text/html": "<pre style=\"white-space:pre;overflow-x:auto;line-height:normal;font-family:Menlo,'DejaVu Sans Mono',consolas,'Courier New',monospace\"><span style=\"font-weight: bold\">{</span>\n    <span style=\"color: #008000; text-decoration-color: #008000\">'executionArn'</span>: \n<span style=\"color: #008000; text-decoration-color: #008000\">'arn:aws:states:us-east-1:669508176277:express:aws_stepfunction_magic_task_demo:6bf7a04f-dec4-41b1-9f77-0633a9a0220</span>\n<span style=\"color: #008000; text-decoration-color: #008000\">9:57822d00-3e1b-483c-b7d8-20dcf9713fa6'</span>,\n    <span style=\"color: #008000; text-decoration-color: #008000\">'stateMachineArn'</span>: <span style=\"color: #008000; text-decoration-color: #008000\">'arn:aws:states:us-east-1:669508176277:stateMachine:aws_stepfunction_magic_task_demo'</span>,\n    <span style=\"color: #008000; text-decoration-color: #008000\">'name'</span>: <span style=\"color: #008000; text-decoration-color: #008000\">'6bf7a04f-dec4-41b1-9f77-0633a9a02209'</span>,\n    <span style=\"color: #008000; text-decoration-color: #008000\">'startDate'</span>: <span style=\"color: #800080; text-decoration-color: #800080; font-weight: bold\">datetime.datetime</span><span style=\"font-weight: bold\">(</span><span style=\"color: #008080; text-decoration-color: #008080; font-weight: bold\">2022</span>, <span style=\"color: #008080; text-decoration-color: #008080; font-weight: bold\">11</span>, <span style=\"color: #008080; text-decoration-color: #008080; font-weight: bold\">9</span>, <span style=\"color: #008080; text-decoration-color: #008080; font-weight: bold\">11</span>, <span style=\"color: #008080; text-decoration-color: #008080; font-weight: bold\">46</span>, <span style=\"color: #008080; text-decoration-color: #008080; font-weight: bold\">44</span>, <span style=\"color: #808000; text-decoration-color: #808000\">tzinfo</span>=<span style=\"color: #800080; text-decoration-color: #800080; font-weight: bold\">tzlocal</span><span style=\"font-weight: bold\">())</span>,\n    <span style=\"color: #008000; text-decoration-color: #008000\">'stopDate'</span>: <span style=\"color: #800080; text-decoration-color: #800080; font-weight: bold\">datetime.datetime</span><span style=\"font-weight: bold\">(</span><span style=\"color: #008080; text-decoration-color: #008080; font-weight: bold\">2022</span>, <span style=\"color: #008080; text-decoration-color: #008080; font-weight: bold\">11</span>, <span style=\"color: #008080; text-decoration-color: #008080; font-weight: bold\">9</span>, <span style=\"color: #008080; text-decoration-color: #008080; font-weight: bold\">11</span>, <span style=\"color: #008080; text-decoration-color: #008080; font-weight: bold\">46</span>, <span style=\"color: #008080; text-decoration-color: #008080; font-weight: bold\">46</span>, <span style=\"color: #008080; text-decoration-color: #008080; font-weight: bold\">256000</span>, <span style=\"color: #808000; text-decoration-color: #808000\">tzinfo</span>=<span style=\"color: #800080; text-decoration-color: #800080; font-weight: bold\">tzlocal</span><span style=\"font-weight: bold\">())</span>,\n    <span style=\"color: #008000; text-decoration-color: #008000\">'status'</span>: <span style=\"color: #008000; text-decoration-color: #008000\">'SUCCEEDED'</span>,\n    <span style=\"color: #008000; text-decoration-color: #008000\">'input'</span>: <span style=\"color: #008000; text-decoration-color: #008000\">'{\"order_id\": \"order-1\"}'</span>,\n    <span style=\"color: #008000; text-decoration-color: #008000\">'inputDetails'</span>: <span style=\"font-weight: bold\">{</span><span style=\"color: #008000; text-decoration-color: #008000\">'included'</span>: <span style=\"color: #00ff00; text-decoration-color: #00ff00; font-style: italic\">True</span><span style=\"font-weight: bold\">}</span>,\n    <span style=\"color: #008000; text-decoration-color: #008000\">'output'</span>: <span style=\"color: #008000; text-decoration-color: #008000\">'{\"status\":\"success\"}'</span>,\n    <span style=\"color: #008000; text-decoration-color: #008000\">'outputDetails'</span>: <span style=\"font-weight: bold\">{</span><span style=\"color: #008000; text-decoration-color: #008000\">'included'</span>: <span style=\"color: #00ff00; text-decoration-color: #00ff00; font-style: italic\">True</span><span style=\"font-weight: bold\">}</span>,\n    <span style=\"color: #008000; text-decoration-color: #008000\">'billingDetails'</span>: <span style=\"font-weight: bold\">{</span><span style=\"color: #008000; text-decoration-color: #008000\">'billedMemoryUsedInMB'</span>: <span style=\"color: #008080; text-decoration-color: #008080; font-weight: bold\">64</span>, <span style=\"color: #008000; text-decoration-color: #008000\">'billedDurationInMilliseconds'</span>: <span style=\"color: #008080; text-decoration-color: #008080; font-weight: bold\">2300</span><span style=\"font-weight: bold\">}</span>,\n    <span style=\"color: #008000; text-decoration-color: #008000\">'ResponseMetadata'</span>: <span style=\"font-weight: bold\">{</span>\n        <span style=\"color: #008000; text-decoration-color: #008000\">'RequestId'</span>: <span style=\"color: #008000; text-decoration-color: #008000\">'8a2ada29-69b1-4d78-b690-7eb3c69c33ae'</span>,\n        <span style=\"color: #008000; text-decoration-color: #008000\">'HTTPStatusCode'</span>: <span style=\"color: #008080; text-decoration-color: #008080; font-weight: bold\">200</span>,\n        <span style=\"color: #008000; text-decoration-color: #008000\">'HTTPHeaders'</span>: <span style=\"font-weight: bold\">{</span>\n            <span style=\"color: #008000; text-decoration-color: #008000\">'x-amzn-requestid'</span>: <span style=\"color: #008000; text-decoration-color: #008000\">'8a2ada29-69b1-4d78-b690-7eb3c69c33ae'</span>,\n            <span style=\"color: #008000; text-decoration-color: #008000\">'date'</span>: <span style=\"color: #008000; text-decoration-color: #008000\">'Wed, 09 Nov 2022 16:46:46 GMT'</span>,\n            <span style=\"color: #008000; text-decoration-color: #008000\">'content-type'</span>: <span style=\"color: #008000; text-decoration-color: #008000\">'application/x-amz-json-1.0'</span>,\n            <span style=\"color: #008000; text-decoration-color: #008000\">'content-length'</span>: <span style=\"color: #008000; text-decoration-color: #008000\">'772'</span>\n        <span style=\"font-weight: bold\">}</span>,\n        <span style=\"color: #008000; text-decoration-color: #008000\">'RetryAttempts'</span>: <span style=\"color: #008080; text-decoration-color: #008080; font-weight: bold\">0</span>\n    <span style=\"font-weight: bold\">}</span>\n<span style=\"font-weight: bold\">}</span>\n</pre>\n"
     },
     "metadata": {},
     "output_type": "display_data"
    }
   ],
   "source": [
    "rprint(execute_result)"
   ],
   "metadata": {
    "collapsed": false,
    "pycharm": {
     "name": "#%%\n"
    }
   }
  },
  {
   "cell_type": "code",
   "execution_count": 12,
   "outputs": [
    {
     "data": {
      "text/plain": "\u001B[1m{\u001B[0m\n    \u001B[32m'updateDate'\u001B[0m: \u001B[1;35mdatetime.datetime\u001B[0m\u001B[1m(\u001B[0m\u001B[1;36m2022\u001B[0m, \u001B[1;36m11\u001B[0m, \u001B[1;36m9\u001B[0m, \u001B[1;36m11\u001B[0m, \u001B[1;36m29\u001B[0m, \u001B[1;36m48\u001B[0m, \u001B[1;36m409000\u001B[0m, \u001B[33mtzinfo\u001B[0m=\u001B[1;35mtzlocal\u001B[0m\u001B[1m(\u001B[0m\u001B[1m)\u001B[0m\u001B[1m)\u001B[0m,\n    \u001B[32m'ResponseMetadata'\u001B[0m: \u001B[1m{\u001B[0m\n        \u001B[32m'RequestId'\u001B[0m: \u001B[32m'c3d58a83-9724-4a1f-b425-6a032b0b122f'\u001B[0m,\n        \u001B[32m'HTTPStatusCode'\u001B[0m: \u001B[1;36m200\u001B[0m,\n        \u001B[32m'HTTPHeaders'\u001B[0m: \u001B[1m{\u001B[0m\n            \u001B[32m'x-amzn-requestid'\u001B[0m: \u001B[32m'c3d58a83-9724-4a1f-b425-6a032b0b122f'\u001B[0m,\n            \u001B[32m'date'\u001B[0m: \u001B[32m'Wed, 09 Nov 2022 16:38:49 GMT'\u001B[0m,\n            \u001B[32m'content-type'\u001B[0m: \u001B[32m'application/x-amz-json-1.0'\u001B[0m,\n            \u001B[32m'content-length'\u001B[0m: \u001B[32m'31'\u001B[0m\n        \u001B[1m}\u001B[0m,\n        \u001B[32m'RetryAttempts'\u001B[0m: \u001B[1;36m0\u001B[0m\n    \u001B[1m}\u001B[0m,\n    \u001B[32m'_deploy_action'\u001B[0m: \u001B[32m'update'\u001B[0m\n\u001B[1m}\u001B[0m\n",
      "text/html": "<pre style=\"white-space:pre;overflow-x:auto;line-height:normal;font-family:Menlo,'DejaVu Sans Mono',consolas,'Courier New',monospace\"><span style=\"font-weight: bold\">{</span>\n    <span style=\"color: #008000; text-decoration-color: #008000\">'updateDate'</span>: <span style=\"color: #800080; text-decoration-color: #800080; font-weight: bold\">datetime.datetime</span><span style=\"font-weight: bold\">(</span><span style=\"color: #008080; text-decoration-color: #008080; font-weight: bold\">2022</span>, <span style=\"color: #008080; text-decoration-color: #008080; font-weight: bold\">11</span>, <span style=\"color: #008080; text-decoration-color: #008080; font-weight: bold\">9</span>, <span style=\"color: #008080; text-decoration-color: #008080; font-weight: bold\">11</span>, <span style=\"color: #008080; text-decoration-color: #008080; font-weight: bold\">29</span>, <span style=\"color: #008080; text-decoration-color: #008080; font-weight: bold\">48</span>, <span style=\"color: #008080; text-decoration-color: #008080; font-weight: bold\">409000</span>, <span style=\"color: #808000; text-decoration-color: #808000\">tzinfo</span>=<span style=\"color: #800080; text-decoration-color: #800080; font-weight: bold\">tzlocal</span><span style=\"font-weight: bold\">())</span>,\n    <span style=\"color: #008000; text-decoration-color: #008000\">'ResponseMetadata'</span>: <span style=\"font-weight: bold\">{</span>\n        <span style=\"color: #008000; text-decoration-color: #008000\">'RequestId'</span>: <span style=\"color: #008000; text-decoration-color: #008000\">'c3d58a83-9724-4a1f-b425-6a032b0b122f'</span>,\n        <span style=\"color: #008000; text-decoration-color: #008000\">'HTTPStatusCode'</span>: <span style=\"color: #008080; text-decoration-color: #008080; font-weight: bold\">200</span>,\n        <span style=\"color: #008000; text-decoration-color: #008000\">'HTTPHeaders'</span>: <span style=\"font-weight: bold\">{</span>\n            <span style=\"color: #008000; text-decoration-color: #008000\">'x-amzn-requestid'</span>: <span style=\"color: #008000; text-decoration-color: #008000\">'c3d58a83-9724-4a1f-b425-6a032b0b122f'</span>,\n            <span style=\"color: #008000; text-decoration-color: #008000\">'date'</span>: <span style=\"color: #008000; text-decoration-color: #008000\">'Wed, 09 Nov 2022 16:38:49 GMT'</span>,\n            <span style=\"color: #008000; text-decoration-color: #008000\">'content-type'</span>: <span style=\"color: #008000; text-decoration-color: #008000\">'application/x-amz-json-1.0'</span>,\n            <span style=\"color: #008000; text-decoration-color: #008000\">'content-length'</span>: <span style=\"color: #008000; text-decoration-color: #008000\">'31'</span>\n        <span style=\"font-weight: bold\">}</span>,\n        <span style=\"color: #008000; text-decoration-color: #008000\">'RetryAttempts'</span>: <span style=\"color: #008080; text-decoration-color: #008080; font-weight: bold\">0</span>\n    <span style=\"font-weight: bold\">}</span>,\n    <span style=\"color: #008000; text-decoration-color: #008000\">'_deploy_action'</span>: <span style=\"color: #008000; text-decoration-color: #008000\">'update'</span>\n<span style=\"font-weight: bold\">}</span>\n</pre>\n"
     },
     "metadata": {},
     "output_type": "display_data"
    }
   ],
   "source": [
    "rprint(result)"
   ],
   "metadata": {
    "collapsed": false,
    "pycharm": {
     "name": "#%%\n"
    }
   }
  },
  {
   "cell_type": "code",
   "execution_count": null,
   "outputs": [],
   "source": [],
   "metadata": {
    "collapsed": false,
    "pycharm": {
     "name": "#%%\n"
    }
   }
  }
 ],
 "metadata": {
  "kernelspec": {
   "display_name": "Python 3",
   "language": "python",
   "name": "python3"
  },
  "language_info": {
   "codemirror_mode": {
    "name": "ipython",
    "version": 2
   },
   "file_extension": ".py",
   "mimetype": "text/x-python",
   "name": "python",
   "nbconvert_exporter": "python",
   "pygments_lexer": "ipython2",
   "version": "2.7.6"
  }
 },
 "nbformat": 4,
 "nbformat_minor": 0
}