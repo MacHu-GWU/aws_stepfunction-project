{
 "cells": [
  {
   "cell_type": "markdown",
   "source": [
    "# Input Output Data Handling\n",
    "\n",
    "First you need to understand the difference between \"State Input\" and \"Action Input\". The \"State Input\" is just the \"State Output\" from previous state. And the Action is the underlying computation, such as Lambda, ECS, Glue. The \"Action Input\" is the raw JSON input for the computation.\n",
    "\n",
    "AWS Step Function Provides the following method to manipulate the Input/Output data:\n",
    "\n",
    "- ``InputPath``: convert \"State Input\" to \"Action Input\", select single JSON node.\n",
    "- ``Parameters``: convert \"State Input\" to \"Action Input\", use payload template language to construct the \"Action Input\".\n",
    "- ``ResultSelector``: convert \"Action Output\" to \"State Output\", use payload template language to construct the \"State Output\".\n",
    "- ``ResultPath``: convert \"Action Output\" to \"State Output\", select single JSON node.\n",
    "\n",
    "![input-output-processing](https://docs.aws.amazon.com/step-functions/latest/dg/images/input-output-processing.png)\n",
    "\n",
    "In this example, we create a simple EShop purchase use case. First we would like to convert the state input from the API, extract the payment information, and \"Verify Payment\". If payment is verified, we would like to forward the \"order_id\" information and send to \"Process Order\". If payment is NOT verified, we fail the workflow."
   ],
   "metadata": {
    "collapsed": false,
    "pycharm": {
     "name": "#%% md\n"
    }
   }
  },
  {
   "cell_type": "code",
   "execution_count": 5,
   "outputs": [],
   "source": [
    "import aws_stepfunction as sfn\n",
    "from rich import print"
   ],
   "metadata": {
    "collapsed": false,
    "pycharm": {
     "name": "#%%\n"
    }
   }
  },
  {
   "cell_type": "markdown",
   "source": [
    "![input-output-sample-workflow](./input-output.png)"
   ],
   "metadata": {
    "collapsed": false,
    "pycharm": {
     "name": "#%% md\n"
    }
   }
  },
  {
   "cell_type": "code",
   "execution_count": 6,
   "outputs": [],
   "source": [
    "workflow = sfn.Workflow()\n",
    "\n",
    "verify_payment = sfn.Task(\n",
    "    id=\"Verify Payment\",\n",
    "    resource=\"arn:...\",\n",
    "    parameters={\n",
    "        \"credit_card_number\": \"$.payment.card_number\",\n",
    "        \"order_id\": \"$.order.order_id\",\n",
    "    },\n",
    "    result_selector={\n",
    "        \"verified\": \"$.verify_result.result\",\n",
    "        \"order_id\": \"$.order_id\",\n",
    "    },\n",
    ")\n",
    "\n",
    "process_order = sfn.Task(\n",
    "    id=\"Process Order\",\n",
    "    resource=\"arn:...\",\n",
    "    parameters={\n",
    "        \"order_id\": \"$.order_id\",\n",
    "    },\n",
    ")"
   ],
   "metadata": {
    "collapsed": false,
    "pycharm": {
     "name": "#%%\n"
    }
   }
  },
  {
   "cell_type": "code",
   "execution_count": 7,
   "outputs": [
    {
     "data": {
      "text/plain": "\u001B[1m{\u001B[0m\n    \u001B[32m'StartAt'\u001B[0m: \u001B[32m'Verify Payment'\u001B[0m,\n    \u001B[32m'States'\u001B[0m: \u001B[1m{\u001B[0m\n        \u001B[32m'Verify Payment'\u001B[0m: \u001B[1m{\u001B[0m\n            \u001B[32m'Type'\u001B[0m: \u001B[32m'Task'\u001B[0m,\n            \u001B[32m'Resource'\u001B[0m: \u001B[32m'arn:...'\u001B[0m,\n            \u001B[32m'Next'\u001B[0m: \u001B[32m'Choice-by-Verify Payment'\u001B[0m,\n            \u001B[32m'Parameters'\u001B[0m: \u001B[1m{\u001B[0m\u001B[32m'credit_card_number'\u001B[0m: \u001B[32m'$.payment.card_number'\u001B[0m, \u001B[32m'order_id'\u001B[0m: \u001B[32m'$.order.order_id'\u001B[0m\u001B[1m}\u001B[0m,\n            \u001B[32m'ResultSelector'\u001B[0m: \u001B[1m{\u001B[0m\u001B[32m'verified'\u001B[0m: \u001B[32m'$.verify_result.result'\u001B[0m, \u001B[32m'order_id'\u001B[0m: \u001B[32m'$.order_id'\u001B[0m\u001B[1m}\u001B[0m\n        \u001B[1m}\u001B[0m,\n        \u001B[32m'Choice-by-Verify Payment'\u001B[0m: \u001B[1m{\u001B[0m\n            \u001B[32m'Type'\u001B[0m: \u001B[32m'Choice'\u001B[0m,\n            \u001B[32m'Choices'\u001B[0m: \u001B[1m[\u001B[0m\u001B[1m{\u001B[0m\u001B[32m'Variable'\u001B[0m: \u001B[32m'$.verified'\u001B[0m, \u001B[32m'BooleanEquals'\u001B[0m: \u001B[3;92mTrue\u001B[0m, \u001B[32m'Next'\u001B[0m: \u001B[32m'Process Order'\u001B[0m\u001B[1m}\u001B[0m\u001B[1m]\u001B[0m,\n            \u001B[32m'Default'\u001B[0m: \u001B[32m'Fail-0c3c4cb'\u001B[0m\n        \u001B[1m}\u001B[0m,\n        \u001B[32m'Process Order'\u001B[0m: \u001B[1m{\u001B[0m\n            \u001B[32m'Type'\u001B[0m: \u001B[32m'Task'\u001B[0m,\n            \u001B[32m'Resource'\u001B[0m: \u001B[32m'arn:...'\u001B[0m,\n            \u001B[32m'End'\u001B[0m: \u001B[3;92mTrue\u001B[0m,\n            \u001B[32m'Parameters'\u001B[0m: \u001B[1m{\u001B[0m\u001B[32m'order_id'\u001B[0m: \u001B[32m'$.order_id'\u001B[0m\u001B[1m}\u001B[0m\n        \u001B[1m}\u001B[0m,\n        \u001B[32m'Fail-0c3c4cb'\u001B[0m: \u001B[1m{\u001B[0m\u001B[32m'Type'\u001B[0m: \u001B[32m'Fail'\u001B[0m\u001B[1m}\u001B[0m\n    \u001B[1m}\u001B[0m\n\u001B[1m}\u001B[0m\n",
      "text/html": "<pre style=\"white-space:pre;overflow-x:auto;line-height:normal;font-family:Menlo,'DejaVu Sans Mono',consolas,'Courier New',monospace\"><span style=\"font-weight: bold\">{</span>\n    <span style=\"color: #008000; text-decoration-color: #008000\">'StartAt'</span>: <span style=\"color: #008000; text-decoration-color: #008000\">'Verify Payment'</span>,\n    <span style=\"color: #008000; text-decoration-color: #008000\">'States'</span>: <span style=\"font-weight: bold\">{</span>\n        <span style=\"color: #008000; text-decoration-color: #008000\">'Verify Payment'</span>: <span style=\"font-weight: bold\">{</span>\n            <span style=\"color: #008000; text-decoration-color: #008000\">'Type'</span>: <span style=\"color: #008000; text-decoration-color: #008000\">'Task'</span>,\n            <span style=\"color: #008000; text-decoration-color: #008000\">'Resource'</span>: <span style=\"color: #008000; text-decoration-color: #008000\">'arn:...'</span>,\n            <span style=\"color: #008000; text-decoration-color: #008000\">'Next'</span>: <span style=\"color: #008000; text-decoration-color: #008000\">'Choice-by-Verify Payment'</span>,\n            <span style=\"color: #008000; text-decoration-color: #008000\">'Parameters'</span>: <span style=\"font-weight: bold\">{</span><span style=\"color: #008000; text-decoration-color: #008000\">'credit_card_number'</span>: <span style=\"color: #008000; text-decoration-color: #008000\">'$.payment.card_number'</span>, <span style=\"color: #008000; text-decoration-color: #008000\">'order_id'</span>: <span style=\"color: #008000; text-decoration-color: #008000\">'$.order.order_id'</span><span style=\"font-weight: bold\">}</span>,\n            <span style=\"color: #008000; text-decoration-color: #008000\">'ResultSelector'</span>: <span style=\"font-weight: bold\">{</span><span style=\"color: #008000; text-decoration-color: #008000\">'verified'</span>: <span style=\"color: #008000; text-decoration-color: #008000\">'$.verify_result.result'</span>, <span style=\"color: #008000; text-decoration-color: #008000\">'order_id'</span>: <span style=\"color: #008000; text-decoration-color: #008000\">'$.order_id'</span><span style=\"font-weight: bold\">}</span>\n        <span style=\"font-weight: bold\">}</span>,\n        <span style=\"color: #008000; text-decoration-color: #008000\">'Choice-by-Verify Payment'</span>: <span style=\"font-weight: bold\">{</span>\n            <span style=\"color: #008000; text-decoration-color: #008000\">'Type'</span>: <span style=\"color: #008000; text-decoration-color: #008000\">'Choice'</span>,\n            <span style=\"color: #008000; text-decoration-color: #008000\">'Choices'</span>: <span style=\"font-weight: bold\">[{</span><span style=\"color: #008000; text-decoration-color: #008000\">'Variable'</span>: <span style=\"color: #008000; text-decoration-color: #008000\">'$.verified'</span>, <span style=\"color: #008000; text-decoration-color: #008000\">'BooleanEquals'</span>: <span style=\"color: #00ff00; text-decoration-color: #00ff00; font-style: italic\">True</span>, <span style=\"color: #008000; text-decoration-color: #008000\">'Next'</span>: <span style=\"color: #008000; text-decoration-color: #008000\">'Process Order'</span><span style=\"font-weight: bold\">}]</span>,\n            <span style=\"color: #008000; text-decoration-color: #008000\">'Default'</span>: <span style=\"color: #008000; text-decoration-color: #008000\">'Fail-0c3c4cb'</span>\n        <span style=\"font-weight: bold\">}</span>,\n        <span style=\"color: #008000; text-decoration-color: #008000\">'Process Order'</span>: <span style=\"font-weight: bold\">{</span>\n            <span style=\"color: #008000; text-decoration-color: #008000\">'Type'</span>: <span style=\"color: #008000; text-decoration-color: #008000\">'Task'</span>,\n            <span style=\"color: #008000; text-decoration-color: #008000\">'Resource'</span>: <span style=\"color: #008000; text-decoration-color: #008000\">'arn:...'</span>,\n            <span style=\"color: #008000; text-decoration-color: #008000\">'End'</span>: <span style=\"color: #00ff00; text-decoration-color: #00ff00; font-style: italic\">True</span>,\n            <span style=\"color: #008000; text-decoration-color: #008000\">'Parameters'</span>: <span style=\"font-weight: bold\">{</span><span style=\"color: #008000; text-decoration-color: #008000\">'order_id'</span>: <span style=\"color: #008000; text-decoration-color: #008000\">'$.order_id'</span><span style=\"font-weight: bold\">}</span>\n        <span style=\"font-weight: bold\">}</span>,\n        <span style=\"color: #008000; text-decoration-color: #008000\">'Fail-0c3c4cb'</span>: <span style=\"font-weight: bold\">{</span><span style=\"color: #008000; text-decoration-color: #008000\">'Type'</span>: <span style=\"color: #008000; text-decoration-color: #008000\">'Fail'</span><span style=\"font-weight: bold\">}</span>\n    <span style=\"font-weight: bold\">}</span>\n<span style=\"font-weight: bold\">}</span>\n</pre>\n"
     },
     "metadata": {},
     "output_type": "display_data"
    }
   ],
   "source": [
    "(\n",
    "    workflow.start_from(verify_payment)\n",
    "    .choice(\n",
    "        [\n",
    "            sfn.Var(\"$.verified\").boolean_equals(True)\n",
    "            .next_then(process_order)\n",
    "        ],\n",
    "        default=sfn.Fail(),\n",
    "    )\n",
    ")\n",
    "\n",
    "workflow.continue_from(process_order).end()\n",
    "\n",
    "print(workflow.serialize())"
   ],
   "metadata": {
    "collapsed": false,
    "pycharm": {
     "name": "#%%\n"
    }
   }
  },
  {
   "cell_type": "code",
   "execution_count": null,
   "outputs": [],
   "source": [],
   "metadata": {
    "collapsed": false,
    "pycharm": {
     "name": "#%%\n"
    }
   }
  }
 ],
 "metadata": {
  "kernelspec": {
   "display_name": "Python 3",
   "language": "python",
   "name": "python3"
  },
  "language_info": {
   "codemirror_mode": {
    "name": "ipython",
    "version": 2
   },
   "file_extension": ".py",
   "mimetype": "text/x-python",
   "name": "python",
   "nbconvert_exporter": "python",
   "pygments_lexer": "ipython2",
   "version": "2.7.6"
  }
 },
 "nbformat": 4,
 "nbformat_minor": 0
}